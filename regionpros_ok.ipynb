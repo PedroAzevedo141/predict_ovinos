{
 "cells": [
  {
   "cell_type": "code",
   "execution_count": 2,
   "id": "dc42adb8",
   "metadata": {},
   "outputs": [],
   "source": [
    "%matplotlib inline\n",
    "#The line above is necesary to show Matplotlib's plots inside a Jupyter Notebook\n",
    "\n",
    "import math\n",
    "import numpy as np\n",
    "import pandas as pd\n",
    "\n",
    "import cv2\n",
    "import matplotlib.pyplot as plt\n",
    "import numpy as np\n",
    "from skimage import data\n",
    "from skimage.color import label2rgb\n",
    "from skimage.filters import sobel\n",
    "from skimage.measure import label, regionprops, regionprops_table\n",
    "from skimage.segmentation import expand_labels, watershed"
   ]
  },
  {
   "cell_type": "code",
   "execution_count": 3,
   "id": "75e8d319",
   "metadata": {},
   "outputs": [],
   "source": [
    "img = cv2.imread(\"/home/pedroazevedo141/Documents/Faculdade/Proj_Lind/last_try/123.png\", 0)"
   ]
  },
  {
   "cell_type": "code",
   "execution_count": 48,
   "id": "50b0f107",
   "metadata": {},
   "outputs": [
    {
     "data": {
      "image/png": "[encoded data removed]",
      "text/plain": [
       "<Figure size 432x288 with 1 Axes>"
      ]
     },
     "metadata": {
      "needs_background": "light"
     },
     "output_type": "display_data"
    }
   ],
   "source": [
    "#Show the image with matplotlib\n",
    "plt.imshow(img, cmap=\"gray\")\n",
    "plt.show()"
   ]
  },
  {
   "cell_type": "code",
   "execution_count": 49,
   "id": "4d9fe611",
   "metadata": {},
   "outputs": [
    {
     "data": {
      "image/png": "[encoded data removed]",
      "text/plain": [
       "<Figure size 432x288 with 1 Axes>"
      ]
     },
     "metadata": {
      "needs_background": "light"
     },
     "output_type": "display_data"
    }
   ],
   "source": [
    "#Show the image with matplotlib\n",
    "plt.imshow(cv2.cvtColor(img, cv2.COLOR_BGR2RGB))\n",
    "plt.show()"
   ]
  },
  {
   "cell_type": "code",
   "execution_count": 50,
   "id": "a74b516a",
   "metadata": {},
   "outputs": [],
   "source": [
    "aux = regionprops(img)"
   ]
  },
  {
   "cell_type": "code",
   "execution_count": 51,
   "id": "5fda758f",
   "metadata": {},
   "outputs": [],
   "source": [
    "aux2 = regionprops_table(img)"
   ]
  },
  {
   "cell_type": "code",
   "execution_count": 52,
   "id": "1c1473ea",
   "metadata": {},
   "outputs": [
    {
     "data": {
      "text/html": [
       "<div>\n",
       "<style scoped>\n",
       "    .dataframe tbody tr th:only-of-type {\n",
       "        vertical-align: middle;\n",
       "    }\n",
       "\n",
       "    .dataframe tbody tr th {\n",
       "        vertical-align: top;\n",
       "    }\n",
       "\n",
       "    .dataframe thead th {\n",
       "        text-align: right;\n",
       "    }\n",
       "</style>\n",
       "<table border=\"1\" class=\"dataframe\">\n",
       "  <thead>\n",
       "    <tr style=\"text-align: right;\">\n",
       "      <th></th>\n",
       "    </tr>\n",
       "  </thead>\n",
       "  <tbody>\n",
       "  </tbody>\n",
       "</table>\n",
       "</div>"
      ],
      "text/plain": [
       "Empty DataFrame\n",
       "Columns: []\n",
       "Index: []"
      ]
     },
     "execution_count": 52,
     "metadata": {},
     "output_type": "execute_result"
    }
   ],
   "source": [
    "df_union = pd.DataFrame()\n",
    "df_union"
   ]
  },
  {
   "cell_type": "code",
   "execution_count": 53,
   "id": "e252f752-ff53-4a49-bc96-71c96a803989",
   "metadata": {},
   "outputs": [
    {
     "data": {
      "text/plain": [
       "dict"
      ]
     },
     "execution_count": 53,
     "metadata": {},
     "output_type": "execute_result"
    }
   ],
   "source": [
    "type(aux2)"
   ]
  },
  {
   "cell_type": "code",
   "execution_count": 54,
   "id": "ec7e24ca",
   "metadata": {},
   "outputs": [
    {
     "data": {
      "text/plain": [
       "{'label': array([255]),\n",
       " 'bbox-0': array([404]),\n",
       " 'bbox-1': array([732]),\n",
       " 'bbox-2': array([681]),\n",
       " 'bbox-3': array([1359])}"
      ]
     },
     "execution_count": 54,
     "metadata": {},
     "output_type": "execute_result"
    }
   ],
   "source": [
    "aux2"
   ]
  },
  {
   "cell_type": "code",
   "execution_count": 55,
   "id": "70382341-fd0b-4170-a9bd-bcfe999ceac4",
   "metadata": {},
   "outputs": [
    {
     "data": {
      "text/html": [
       "<div>\n",
       "<style scoped>\n",
       "    .dataframe tbody tr th:only-of-type {\n",
       "        vertical-align: middle;\n",
       "    }\n",
       "\n",
       "    .dataframe tbody tr th {\n",
       "        vertical-align: top;\n",
       "    }\n",
       "\n",
       "    .dataframe thead th {\n",
       "        text-align: right;\n",
       "    }\n",
       "</style>\n",
       "<table border=\"1\" class=\"dataframe\">\n",
       "  <thead>\n",
       "    <tr style=\"text-align: right;\">\n",
       "      <th></th>\n",
       "      <th>label</th>\n",
       "      <th>bbox-0</th>\n",
       "      <th>bbox-1</th>\n",
       "      <th>bbox-2</th>\n",
       "      <th>bbox-3</th>\n",
       "    </tr>\n",
       "  </thead>\n",
       "  <tbody>\n",
       "    <tr>\n",
       "      <th>0</th>\n",
       "      <td>255</td>\n",
       "      <td>404</td>\n",
       "      <td>732</td>\n",
       "      <td>681</td>\n",
       "      <td>1359</td>\n",
       "    </tr>\n",
       "  </tbody>\n",
       "</table>\n",
       "</div>"
      ],
      "text/plain": [
       "   label  bbox-0  bbox-1  bbox-2  bbox-3\n",
       "0    255     404     732     681    1359"
      ]
     },
     "execution_count": 55,
     "metadata": {},
     "output_type": "execute_result"
    }
   ],
   "source": [
    "df2 = pd.DataFrame(aux2)\n",
    "df2"
   ]
  },
  {
   "cell_type": "code",
   "execution_count": 56,
   "id": "3c435bff-f755-4ecb-91e5-84d6cc1bb869",
   "metadata": {},
   "outputs": [],
   "source": [
    "df_union = pd.concat([df_union, df2])"
   ]
  },
  {
   "cell_type": "code",
   "execution_count": 57,
   "id": "6a49307c-2693-4970-90b5-79e61ecfa54c",
   "metadata": {},
   "outputs": [],
   "source": [
    "df_union.insert(0, \"NameImage\", \"Testes\")"
   ]
  },
  {
   "cell_type": "code",
   "execution_count": 58,
   "id": "8c194064-d3a2-4f1c-87bb-b93c884211f1",
   "metadata": {},
   "outputs": [
    {
     "data": {
      "text/html": [
       "<div>\n",
       "<style scoped>\n",
       "    .dataframe tbody tr th:only-of-type {\n",
       "        vertical-align: middle;\n",
       "    }\n",
       "\n",
       "    .dataframe tbody tr th {\n",
       "        vertical-align: top;\n",
       "    }\n",
       "\n",
       "    .dataframe thead th {\n",
       "        text-align: right;\n",
       "    }\n",
       "</style>\n",
       "<table border=\"1\" class=\"dataframe\">\n",
       "  <thead>\n",
       "    <tr style=\"text-align: right;\">\n",
       "      <th></th>\n",
       "      <th>NameImage</th>\n",
       "      <th>label</th>\n",
       "      <th>bbox-0</th>\n",
       "      <th>bbox-1</th>\n",
       "      <th>bbox-2</th>\n",
       "      <th>bbox-3</th>\n",
       "    </tr>\n",
       "  </thead>\n",
       "  <tbody>\n",
       "    <tr>\n",
       "      <th>0</th>\n",
       "      <td>Testes</td>\n",
       "      <td>255</td>\n",
       "      <td>404</td>\n",
       "      <td>732</td>\n",
       "      <td>681</td>\n",
       "      <td>1359</td>\n",
       "    </tr>\n",
       "  </tbody>\n",
       "</table>\n",
       "</div>"
      ],
      "text/plain": [
       "  NameImage  label  bbox-0  bbox-1  bbox-2  bbox-3\n",
       "0    Testes    255     404     732     681    1359"
      ]
     },
     "execution_count": 58,
     "metadata": {},
     "output_type": "execute_result"
    }
   ],
   "source": [
    "df_union"
   ]
  },
  {
   "cell_type": "markdown",
   "id": "64feb320",
   "metadata": {},
   "source": [
    "    ## Testes de labels"
   ]
  },
  {
   "cell_type": "code",
   "execution_count": 4,
   "id": "541c6338-19a9-44fe-a9e6-f4e20b7f7964",
   "metadata": {},
   "outputs": [],
   "source": [
    "props = regionprops(img)"
   ]
  },
  {
   "cell_type": "code",
   "execution_count": 8,
   "id": "a288a20d",
   "metadata": {},
   "outputs": [
    {
     "data": {
      "text/plain": [
       "(508.20485332319583, 1050.3589304948362)"
      ]
     },
     "execution_count": 8,
     "metadata": {},
     "output_type": "execute_result"
    }
   ],
   "source": [
    "props[0].centroid\n"
   ]
  },
  {
   "cell_type": "code",
   "execution_count": 14,
   "id": "0362a005",
   "metadata": {},
   "outputs": [
    {
     "name": "stdout",
     "output_type": "stream",
     "text": [
      "area 78915\n",
      "area_bbox 173679\n",
      "area_convex 118377\n",
      "area_filled 78915\n",
      "axis_major_length 554.2786483115725\n",
      "axis_minor_length 233.0313547911744\n",
      "bbox (404, 732, 681, 1359)\n",
      "centroid (508.20485332319583, 1050.3589304948362)\n",
      "centroid_local [104.20485332 318.35893049]\n",
      "coords [[ 404  967]\n",
      " [ 404  968]\n",
      " [ 404  969]\n",
      " ...\n",
      " [ 680 1099]\n",
      " [ 680 1100]\n",
      " [ 680 1101]]\n",
      "eccentricity 0.9073283360831332\n",
      "equivalent_diameter_area 316.982174061532\n",
      "euler_number 1\n",
      "extent 0.45437272209075363\n",
      "feret_diameter_max 628.1504596830285\n",
      "image [[False False False ... False False False]\n",
      " [False False False ... False False False]\n",
      " [False False False ... False False False]\n",
      " ...\n",
      " [False False False ... False False False]\n",
      " [False False False ... False False False]\n",
      " [False False False ... False False False]]\n",
      "image_convex [[False False False ... False False False]\n",
      " [False False False ... False False False]\n",
      " [False False False ... False False False]\n",
      " ...\n",
      " [False False False ... False False False]\n",
      " [False False False ... False False False]\n",
      " [False False False ... False False False]]\n",
      "image_filled [[False False False ... False False False]\n",
      " [False False False ... False False False]\n",
      " [False False False ... False False False]\n",
      " ...\n",
      " [False False False ... False False False]\n",
      " [False False False ... False False False]\n",
      " [False False False ... False False False]]\n",
      "inertia_tensor [[19153.8789621    866.78175848]\n",
      " [  866.78175848  3441.64805602]]\n",
      "inertia_tensor_eigvals [19201.551248381496, 3393.9757697381374]\n",
      "label 255\n",
      "moments [[7.89150000e+04 2.51232950e+07 9.50975368e+09 4.04558658e+12]\n",
      " [8.22332600e+06 2.54956719e+09 9.27220685e+11 3.79481522e+14]\n",
      " [1.12850814e+09 3.36654387e+11 1.15427517e+14 4.43573666e+16]\n",
      " [1.85252163e+11 5.34398217e+13 1.73804665e+16 6.27094660e+18]]\n",
      "moments_central [[ 7.89150000e+04  3.72529030e-09  1.51152836e+09  5.56544627e+10]\n",
      " [ 3.31783667e-09 -6.84020825e+07 -2.01889750e+10 -2.00806498e+12]\n",
      " [ 2.71597656e+08 -8.36059804e+09  3.24509198e+12 -1.21354017e+14]\n",
      " [ 1.10525502e+10 -6.94950999e+11  6.30116737e+13 -1.70209356e+16]]\n",
      "moments_hu [2.86327403e-01 4.01246638e-02 3.80576606e-03 7.58096695e-04\n",
      " 1.27261208e-06 1.46281547e-04 1.96413507e-07]\n",
      "moments_normalized [[        nan         nan  0.24271531  0.03181274]\n",
      " [        nan -0.01098374 -0.01154025 -0.00408601]\n",
      " [ 0.04361209 -0.00477902  0.00660311 -0.00087901]\n",
      " [ 0.00631777 -0.00141408  0.00045642 -0.00043888]]\n",
      "orientation -1.515852501834516\n",
      "perimeter 1829.9940828143394\n",
      "perimeter_crofton 1737.624698829949\n",
      "slice (slice(404, 681, None), slice(732, 1359, None))\n",
      "solidity 0.6666413239058263\n"
     ]
    }
   ],
   "source": [
    "for prop in props[0]:\n",
    "    print(prop, props[0][prop])\n"
   ]
  },
  {
   "cell_type": "code",
   "execution_count": null,
   "id": "99904fd6",
   "metadata": {},
   "outputs": [],
   "source": []
  }
 ],
 "metadata": {
  "kernelspec": {
   "display_name": "Python 3.10.4 64-bit",
   "language": "python",
   "name": "python3"
  },
  "language_info": {
   "codemirror_mode": {
    "name": "ipython",
    "version": 3
   },
   "file_extension": ".py",
   "mimetype": "text/x-python",
   "name": "python",
   "nbconvert_exporter": "python",
   "pygments_lexer": "ipython3",
   "version": "3.10.4"
  },
  "vscode": {
   "interpreter": {
    "hash": "916dbcbb3f70747c44a77c7bcd40155683ae19c65e1c03b4aa3499c5328201f1"
   }
  }
 },
 "nbformat": 4,
 "nbformat_minor": 5
}
