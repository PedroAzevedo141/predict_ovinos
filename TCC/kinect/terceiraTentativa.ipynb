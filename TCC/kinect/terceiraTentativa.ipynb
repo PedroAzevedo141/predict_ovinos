{
 "cells": [
  {
   "cell_type": "code",
   "execution_count": 8,
   "metadata": {},
   "outputs": [],
   "source": [
    "from freenect2 import Device, FrameType\n",
    "import numpy as np\n",
    "from skimage.io import imsave\n",
    "from PIL import Image\n",
    "import time\n"
   ]
  },
  {
   "cell_type": "code",
   "execution_count": 9,
   "metadata": {},
   "outputs": [
    {
     "name": "stderr",
     "output_type": "stream",
     "text": [
      "libva info: VA-API version 1.14.0\n",
      "libva info: Trying to open /usr/lib/x86_64-linux-gnu/dri/iHD_drv_video.so\n",
      "libva info: Found init function __vaDriverInit_1_14\n",
      "libva info: va_openDriver() returns 0\n",
      "[Warning] [Freenect2Impl] device @2:4 is already be open!\n"
     ]
    },
    {
     "name": "stdout",
     "output_type": "stream",
     "text": [
      "[Info] [VaapiRgbPacketProcessorImpl] driver: Intel iHD driver for Intel(R) Gen Graphics - 22.3.1 ()\n",
      "[Info] [Freenect2DeviceImpl] starting...\n",
      "[Info] [Freenect2DeviceImpl] submitting rgb transfers...\n",
      "[Info] [Freenect2DeviceImpl] submitting depth transfers...\n",
      "[Info] [Freenect2DeviceImpl] started\n",
      "[Info] [Freenect2DeviceImpl] stopping...\n",
      "[Info] [Freenect2DeviceImpl] canceling rgb transfers...\n",
      "[Info] [Freenect2DeviceImpl] canceling depth transfers...\n",
      "[Info] [Freenect2DeviceImpl] stopped\n"
     ]
    }
   ],
   "source": [
    "device = Device()\n",
    "frames = {}\n",
    "with device.running():\n",
    "    for type_, frame in device:\n",
    "        frames[type_] = frame\n",
    "        if FrameType.Color in frames and FrameType.Depth in frames:\n",
    "            break\n",
    "\n",
    "# Use the factory calibration to undistort the depth frame and register the RGB\n",
    "# frame onto it.\n",
    "rgb, depth = frames[FrameType.Color], frames[FrameType.Depth]"
   ]
  },
  {
   "cell_type": "code",
   "execution_count": 10,
   "metadata": {},
   "outputs": [
    {
     "data": {
      "text/plain": [
       "Frame(width=1920, height=1080, sequence=2584, timestamp=797303, format=FrameFormat.BGRX)"
      ]
     },
     "execution_count": 10,
     "metadata": {},
     "output_type": "execute_result"
    }
   ],
   "source": [
    "rgb\n"
   ]
  },
  {
   "cell_type": "code",
   "execution_count": 11,
   "metadata": {},
   "outputs": [
    {
     "data": {
      "text/plain": [
       "Frame(width=512, height=424, sequence=16, timestamp=797123, format=FrameFormat.Float)"
      ]
     },
     "execution_count": 11,
     "metadata": {},
     "output_type": "execute_result"
    }
   ],
   "source": [
    "depth\n"
   ]
  },
  {
   "cell_type": "code",
   "execution_count": 12,
   "metadata": {},
   "outputs": [],
   "source": [
    "imsave('image_rgb.png', rgb.to_array())\n"
   ]
  },
  {
   "cell_type": "code",
   "execution_count": 13,
   "metadata": {},
   "outputs": [
    {
     "name": "stderr",
     "output_type": "stream",
     "text": [
      "Lossy conversion from float32 to uint8. Range [0.0, 4499.5595703125]. Convert image to uint8 prior to saving to suppress this warning.\n"
     ]
    }
   ],
   "source": [
    "imsave('image_depth.png', depth.to_array())\n"
   ]
  },
  {
   "cell_type": "code",
   "execution_count": 14,
   "metadata": {},
   "outputs": [
    {
     "data": {
      "text/plain": [
       "(424, 512)"
      ]
     },
     "execution_count": 14,
     "metadata": {},
     "output_type": "execute_result"
    }
   ],
   "source": [
    "depth.to_array().shape\n"
   ]
  },
  {
   "cell_type": "code",
   "execution_count": 15,
   "metadata": {},
   "outputs": [],
   "source": [
    "depth_image = depth.to_array()\n",
    "depth_image /= depth_image.max()\n",
    "depth_image = np.sqrt(depth_image)\n",
    "\n",
    "# Use Pillow to save the IR image.\n",
    "Image.fromarray(256 * depth_image).convert('L').save('img_depth.jpg')\n"
   ]
  },
  {
   "cell_type": "code",
   "execution_count": 17,
   "metadata": {},
   "outputs": [
    {
     "data": {
      "text/plain": [
       "{<FrameType.Ir: 2>: Frame(width=512, height=424, sequence=16, timestamp=797123, format=FrameFormat.Float),\n",
       " <FrameType.Depth: 4>: Frame(width=512, height=424, sequence=16, timestamp=797123, format=FrameFormat.Float),\n",
       " <FrameType.Color: 1>: Frame(width=1920, height=1080, sequence=2584, timestamp=797303, format=FrameFormat.BGRX)}"
      ]
     },
     "execution_count": 17,
     "metadata": {},
     "output_type": "execute_result"
    }
   ],
   "source": [
    "frames\n"
   ]
  },
  {
   "cell_type": "code",
   "execution_count": null,
   "metadata": {},
   "outputs": [],
   "source": []
  }
 ],
 "metadata": {
  "kernelspec": {
   "display_name": "Python 3",
   "language": "python",
   "name": "python3"
  },
  "language_info": {
   "codemirror_mode": {
    "name": "ipython",
    "version": 3
   },
   "file_extension": ".py",
   "mimetype": "text/x-python",
   "name": "python",
   "nbconvert_exporter": "python",
   "pygments_lexer": "ipython3",
   "version": "3.10.6 (main, Nov 14 2022, 16:10:14) [GCC 11.3.0]"
  },
  "orig_nbformat": 4,
  "vscode": {
   "interpreter": {
    "hash": "e7370f93d1d0cde622a1f8e1c04877d8463912d04d973331ad4851f04de6915a"
   }
  }
 },
 "nbformat": 4,
 "nbformat_minor": 2
}
