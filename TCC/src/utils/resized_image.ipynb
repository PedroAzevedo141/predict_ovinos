{
 "cells": [
  {
   "cell_type": "code",
   "execution_count": 1,
   "metadata": {},
   "outputs": [],
   "source": [
    "from PIL import Image\n",
    "import os\n",
    "import sys\n"
   ]
  },
  {
   "attachments": {},
   "cell_type": "markdown",
   "metadata": {},
   "source": [
    "### Insira o path das imagens"
   ]
  },
  {
   "cell_type": "code",
   "execution_count": 2,
   "metadata": {},
   "outputs": [
    {
     "name": "stdout",
     "output_type": "stream",
     "text": [
      "d:\\Documentos\\Faculdade - UFPI\\Weight Estimation\\predict_ovinos\\TCC\\images\\02_02\n"
     ]
    }
   ],
   "source": [
    "%cd ../../../TCC/images/02_02/"
   ]
  },
  {
   "cell_type": "code",
   "execution_count": null,
   "metadata": {},
   "outputs": [],
   "source": [
    "# Para varias imagens\n",
    "dirs = os.listdir(\"jpeg\")\n",
    "\n",
    "def resize():\n",
    "    for item in dirs:\n",
    "        if os.path.isfile(\"jpeg/\" + item):\n",
    "            im = Image.open(\"jpeg/\" + item)\n",
    "            imResize = im.resize((256, 256), Image.ANTIALIAS)\n",
    "            imResize.save(\"resized/\" + 'r_' +\n",
    "                          item[:-5] + '.jpg', 'JPEG', quality=90)\n",
    "\n",
    "\n",
    "resize()\n",
    "\n"
   ]
  },
  {
   "cell_type": "code",
   "execution_count": null,
   "metadata": {},
   "outputs": [],
   "source": [
    "# Para uma imagem\n",
    "\n",
    "im = Image.open('amarelo.jpeg')\n",
    "imResize = im.resize((256,256), Image.ANTIALIAS)\n",
    "imResize.save(\"./resized/\" + 'resized.jpg', 'JPEG', quality=90)"
   ]
  }
 ],
 "metadata": {
  "kernelspec": {
   "display_name": "Python 3",
   "language": "python",
   "name": "python3"
  },
  "language_info": {
   "codemirror_mode": {
    "name": "ipython",
    "version": 3
   },
   "file_extension": ".py",
   "mimetype": "text/x-python",
   "name": "python",
   "nbconvert_exporter": "python",
   "pygments_lexer": "ipython3",
   "version": "3.8.10"
  },
  "orig_nbformat": 4,
  "vscode": {
   "interpreter": {
    "hash": "cf796a5dd5001d30310d8affa2ff7ec09a7a9ca5b49a5c2a88613fa922fcbf33"
   }
  }
 },
 "nbformat": 4,
 "nbformat_minor": 2
}
