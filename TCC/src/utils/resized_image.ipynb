{
 "cells": [
  {
   "cell_type": "code",
   "execution_count": 1,
   "metadata": {},
   "outputs": [],
   "source": [
    "from PIL import Image\n",
    "import os\n",
    "import sys\n"
   ]
  },
  {
   "attachments": {},
   "cell_type": "markdown",
   "metadata": {},
   "source": [
    "### Insira o path das imagens"
   ]
  },
  {
   "cell_type": "code",
   "execution_count": 2,
   "metadata": {},
   "outputs": [
    {
     "name": "stdout",
     "output_type": "stream",
     "text": [
      "d:\\Documentos\\Faculdade - UFPI\\Weight Estimation\\predict_ovinos\\TCC\\images\\26_03\n"
     ]
    }
   ],
   "source": [
    "# %cd ../../../TCC/images/02_02/jpeg\n",
    "# %cd ../../../TCC/images/12_03\n",
    "# %cd ../../../TCC/images/15_12\n",
    "# %cd ../../../TCC/images/19_03\n",
    "%cd ../../../TCC/images/26_03\n"
   ]
  },
  {
   "cell_type": "code",
   "execution_count": 3,
   "metadata": {},
   "outputs": [],
   "source": [
    "# Para varias imagens\n",
    "folder = \"D:\\Documentos\\Faculdade - UFPI\\Weight Estimation\\predict_ovinos\\TCC\\images_for_train/\"\n",
    "dirs = os.listdir(\"./\")\n",
    "\n",
    "def resize():\n",
    "    for item in dirs:\n",
    "        if os.path.isfile(\"./\" + item):\n",
    "            im = Image.open(\"./\" + item)\n",
    "            imResize = im.resize((640, 480), Image.Resampling.LANCZOS)\n",
    "            imResize = imResize.convert('RGB')\n",
    "            os.makedirs(folder, exist_ok=True)\n",
    "            imResize.save(folder + 'r_' + item[:-4] + '.jpg', 'JPEG', quality=90)\n",
    "\n",
    "\n",
    "resize()\n",
    "\n"
   ]
  },
  {
   "cell_type": "code",
   "execution_count": null,
   "metadata": {},
   "outputs": [],
   "source": [
    "# Para uma imagem\n",
    "\n",
    "im = Image.open('amarelo.jpeg')\n",
    "imResize = im.resize((256,256), Image.ANTIALIAS)\n",
    "imResize.save(\"./resized/\" + 'resized.jpg', 'JPEG', quality=90)"
   ]
  },
  {
   "cell_type": "code",
   "execution_count": 40,
   "metadata": {},
   "outputs": [],
   "source": [
    "img = \"animal_02.png\"\n",
    "\n",
    "im = Image.open(img)\n",
    "imResize = im.resize((256, 256), Image.Resampling.LANCZOS)\n",
    "imResize = imResize.convert('RGB')\n",
    "imResize.save(\"resized_256/\" + 'r_' + img[:-4] + '.jpg', 'JPEG', quality=90)\n"
   ]
  },
  {
   "cell_type": "code",
   "execution_count": null,
   "metadata": {},
   "outputs": [],
   "source": []
  }
 ],
 "metadata": {
  "kernelspec": {
   "display_name": "Python 3",
   "language": "python",
   "name": "python3"
  },
  "language_info": {
   "codemirror_mode": {
    "name": "ipython",
    "version": 3
   },
   "file_extension": ".py",
   "mimetype": "text/x-python",
   "name": "python",
   "nbconvert_exporter": "python",
   "pygments_lexer": "ipython3",
   "version": "3.8.10"
  },
  "orig_nbformat": 4,
  "vscode": {
   "interpreter": {
    "hash": "cf796a5dd5001d30310d8affa2ff7ec09a7a9ca5b49a5c2a88613fa922fcbf33"
   }
  }
 },
 "nbformat": 4,
 "nbformat_minor": 2
}
