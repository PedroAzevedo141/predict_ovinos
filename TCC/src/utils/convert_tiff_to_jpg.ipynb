{
 "cells": [
  {
   "cell_type": "code",
   "execution_count": 1,
   "metadata": {},
   "outputs": [],
   "source": [
    "import os\n",
    "import sys\n",
    "from PIL import Image\n"
   ]
  },
  {
   "cell_type": "markdown",
   "metadata": {},
   "source": [
    "## Codigo para conversao de .tif para .jpeg"
   ]
  },
  {
   "cell_type": "markdown",
   "metadata": {},
   "source": [
    "#### Tive que ir ate a pasta Assets usando o comando %cd"
   ]
  },
  {
   "cell_type": "code",
   "execution_count": 2,
   "metadata": {},
   "outputs": [
    {
     "name": "stdout",
     "output_type": "stream",
     "text": [
      "d:\\Documentos\\Faculdade - UFPI\\Weight Estimation\\predict_ovinos\\TCC\\images\\02_02\n",
      "new filename : jpeg\\amarelo.jpeg\n",
      "new filename : jpeg\\azul.jpeg\n",
      "new filename : jpeg\\branco.jpeg\n",
      "new filename : jpeg\\preto.jpeg\n",
      "new filename : jpeg\\roxo.jpeg\n",
      "new filename : jpeg\\verde.jpeg\n",
      "new filename : jpeg\\vermelho.jpeg\n"
     ]
    }
   ],
   "source": [
    "%cd ../../images/02_02\n",
    "\n",
    "for infile in os.listdir(\"./\"):\n",
    "    # print (\"file : \" + infile)\n",
    "    if infile[-3:] == \"tif\" or infile[-3:] == \"bmp\":\n",
    "       # print \"is tif or bmp\"\n",
    "       outfile = infile[:-3] + \"jpeg\"\n",
    "       outfile = os.path.join(\"jpeg\", outfile)\n",
    "       im = Image.open(infile)\n",
    "       print (\"new filename : \" + outfile)\n",
    "       out = im.convert(\"RGB\")\n",
    "       out.save(outfile, \"JPEG\", quality=90)\n"
   ]
  },
  {
   "cell_type": "code",
   "execution_count": null,
   "metadata": {},
   "outputs": [],
   "source": []
  }
 ],
 "metadata": {
  "kernelspec": {
   "display_name": "Python 3 (ipykernel)",
   "language": "python",
   "name": "python3"
  },
  "language_info": {
   "codemirror_mode": {
    "name": "ipython",
    "version": 3
   },
   "file_extension": ".py",
   "mimetype": "text/x-python",
   "name": "python",
   "nbconvert_exporter": "python",
   "pygments_lexer": "ipython3",
   "version": "3.8.10"
  },
  "vscode": {
   "interpreter": {
    "hash": "cf796a5dd5001d30310d8affa2ff7ec09a7a9ca5b49a5c2a88613fa922fcbf33"
   }
  }
 },
 "nbformat": 4,
 "nbformat_minor": 4
}
