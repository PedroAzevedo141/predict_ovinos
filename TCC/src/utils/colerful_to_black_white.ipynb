{
 "cells": [
  {
   "cell_type": "code",
   "execution_count": 1,
   "id": "8a338371-2e28-4150-8400-d9aa6f3711b9",
   "metadata": {},
   "outputs": [],
   "source": [
    "from PIL import Image\n",
    "import os\n",
    "import sys"
   ]
  },
  {
   "cell_type": "markdown",
   "id": "4688c3d3-d6d6-4f87-8398-7ae398b5911c",
   "metadata": {},
   "source": [
    "### Path do diretorio das imagens"
   ]
  },
  {
   "cell_type": "code",
   "execution_count": 2,
   "id": "f215657a-4be9-4b5c-af31-f5923e26dba3",
   "metadata": {},
   "outputs": [
    {
     "name": "stdout",
     "output_type": "stream",
     "text": [
      "D:\\Documentos\\Faculdade - UFPI\\Weight Estimation\\predict_ovinos\\TCC\\images_segmented\n"
     ]
    }
   ],
   "source": [
    "%cd ../../../TCC/images_segmented"
   ]
  },
  {
   "cell_type": "code",
   "execution_count": 5,
   "id": "cc5e10f6-3a5f-48b1-a4cd-481006554d85",
   "metadata": {},
   "outputs": [],
   "source": [
    "dirs = os.listdir(\"./\")\n",
    "folder = \"D:\\Documentos\\Faculdade - UFPI\\Weight Estimation\\predict_ovinos\\TCC\\images_black_and_white/\"\n",
    "\n",
    "for item in dirs:\n",
    "    if os.path.isfile(\"./\" + item):\n",
    "        #read the image from path\n",
    "        image = Image.open(\"./\" + item)\n",
    "\n",
    "        #Converting the same image to black and white mode\n",
    "        imResize = image.convert('1')\n",
    "\n",
    "        os.makedirs(folder, exist_ok=True)\n",
    "        \n",
    "        #save both the images\n",
    "        imResize.save(folder + 'bw_' + item[:-4] + '.jpg', 'JPEG', quality=90)\n",
    "        "
   ]
  },
  {
   "cell_type": "code",
   "execution_count": null,
   "id": "2cb51036-b8f3-4fa4-a8b3-0a42b16a42a1",
   "metadata": {},
   "outputs": [],
   "source": []
  }
 ],
 "metadata": {
  "kernelspec": {
   "display_name": "Python 3 (ipykernel)",
   "language": "python",
   "name": "python3"
  },
  "language_info": {
   "codemirror_mode": {
    "name": "ipython",
    "version": 3
   },
   "file_extension": ".py",
   "mimetype": "text/x-python",
   "name": "python",
   "nbconvert_exporter": "python",
   "pygments_lexer": "ipython3",
   "version": "3.8.10"
  }
 },
 "nbformat": 4,
 "nbformat_minor": 5
}
