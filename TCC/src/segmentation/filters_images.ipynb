{
 "cells": [
  {
   "cell_type": "code",
   "execution_count": 1,
   "metadata": {},
   "outputs": [],
   "source": [
    "import cv2\n",
    "import numpy as np\n",
    "import os\n",
    "from skimage import restoration, filters\n",
    "from skimage.util import random_noise\n",
    "from skimage.io import imread\n",
    "from skimage.color import rgb2gray\n",
    "from skimage.io import imsave\n",
    "import matplotlib.pyplot as plt\n",
    "%matplotlib inline\n"
   ]
  },
  {
   "cell_type": "code",
   "execution_count": 2,
   "metadata": {},
   "outputs": [
    {
     "name": "stdout",
     "output_type": "stream",
     "text": [
      "d:\\Documentos\\Faculdade - UFPI\\Weight Estimation\\predict_ovinos\\TCC\\images_segmented_3\n"
     ]
    }
   ],
   "source": [
    "%cd ../../../TCC/images_segmented_3\n"
   ]
  },
  {
   "cell_type": "code",
   "execution_count": 3,
   "metadata": {},
   "outputs": [],
   "source": [
    "# Para varias imagens\n",
    "folder_01 = \"D:\\Documentos\\Faculdade - UFPI\\Weight Estimation\\predict_ovinos\\TCC\\images_th_mean_4/\"\n",
    "folder_02 = \"D:\\Documentos\\Faculdade - UFPI\\Weight Estimation\\predict_ovinos\\TCC\\images_th_triangle_4/\"\n",
    "dirs = os.listdir(\"./\")\n",
    "\n",
    "for item in dirs:\n",
    "    if os.path.isfile(\"./\" + item):\n",
    "        image = imread(\"./\" + item)\n",
    "        th_mean = filters.threshold_mean(image)\n",
    "        th_mean = (image < th_mean)\n",
    "        \n",
    "        os.makedirs(folder_01, exist_ok=True)\n",
    "        imsave(folder_01+'image_th_mean_{}.png'.format(item), th_mean.astype(np.uint8) * 255)\n",
    "\n",
    "        th_triangle = filters.threshold_triangle(image)\n",
    "        th_triangle = (image > th_triangle)\n",
    "        \n",
    "        os.makedirs(folder_02, exist_ok=True)\n",
    "        imsave(folder_02+'image_th_triangle_{}.png'.format(item), th_triangle.astype(np.uint8) * 255)\n"
   ]
  },
  {
   "cell_type": "code",
   "execution_count": null,
   "metadata": {},
   "outputs": [],
   "source": []
  }
 ],
 "metadata": {
  "kernelspec": {
   "display_name": "Python 3",
   "language": "python",
   "name": "python3"
  },
  "language_info": {
   "codemirror_mode": {
    "name": "ipython",
    "version": 3
   },
   "file_extension": ".py",
   "mimetype": "text/x-python",
   "name": "python",
   "nbconvert_exporter": "python",
   "pygments_lexer": "ipython3",
   "version": "3.8.10"
  },
  "orig_nbformat": 4,
  "vscode": {
   "interpreter": {
    "hash": "cf796a5dd5001d30310d8affa2ff7ec09a7a9ca5b49a5c2a88613fa922fcbf33"
   }
  }
 },
 "nbformat": 4,
 "nbformat_minor": 2
}
