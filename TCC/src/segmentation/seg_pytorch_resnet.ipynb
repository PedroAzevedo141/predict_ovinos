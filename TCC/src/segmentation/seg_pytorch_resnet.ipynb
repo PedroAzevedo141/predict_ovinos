{
 "cells": [
  {
   "cell_type": "code",
   "execution_count": 1,
   "metadata": {},
   "outputs": [],
   "source": [
    "import torch\n",
    "import numpy as np\n",
    "import matplotlib.pyplot as plt\n",
    "\n",
    "import torchvision.transforms.functional as F\n",
    "from torchvision.models.detection import keypointrcnn_resnet50_fpn, KeypointRCNN_ResNet50_FPN_Weights\n",
    "from torchvision.utils import make_grid\n",
    "from torchvision.io import read_image\n",
    "from pathlib import Path\n",
    "\n",
    "from torchvision.models.detection import maskrcnn_resnet50_fpn, MaskRCNN_ResNet50_FPN_Weights\n",
    "from torchvision.utils import draw_segmentation_masks\n",
    "\n",
    "from PIL import Image\n",
    "\n",
    "import cv2\n",
    "import numpy as np\n",
    "from skimage import restoration, filters\n",
    "from skimage.util import random_noise\n",
    "from skimage.io import imread\n",
    "from skimage.color import rgb2gray\n",
    "from skimage.io import imsave\n",
    "import matplotlib.pyplot as plt\n",
    "\n",
    "import os\n",
    "import sys\n",
    "\n",
    "%matplotlib inline"
   ]
  },
  {
   "cell_type": "code",
   "execution_count": 2,
   "metadata": {},
   "outputs": [
    {
     "name": "stdout",
     "output_type": "stream",
     "text": [
      "cuda:0\n"
     ]
    }
   ],
   "source": [
    "device = torch.device(\"cuda:0\" if torch.cuda.is_available() else \"cpu\")\n",
    "print(device)\n"
   ]
  },
  {
   "attachments": {},
   "cell_type": "markdown",
   "metadata": {},
   "source": [
    "### Colocando a pasta raiz do projeto na pasta da imagem."
   ]
  },
  {
   "cell_type": "code",
   "execution_count": 3,
   "metadata": {},
   "outputs": [
    {
     "name": "stdout",
     "output_type": "stream",
     "text": [
      "d:\\Documentos\\Faculdade - UFPI\\Weight Estimation\\predict_ovinos\\TCC\n"
     ]
    }
   ],
   "source": [
    "%cd ../../../TCC/"
   ]
  },
  {
   "cell_type": "code",
   "execution_count": 4,
   "metadata": {},
   "outputs": [],
   "source": [
    "# Define the helper function\n",
    "def decode_segmap(image, nc=21):\n",
    "  label_colors = np.array([(0, 0, 0),  # 0=background\n",
    "                           # 1=aeroplane, 2=bicycle, 3=bird, 4=boat, 5=bottle\n",
    "                           (128, 0, 0), (0, 128, 0), (128, 128,\n",
    "                                                      0), (0, 0, 128), (128, 0, 128),\n",
    "                           # 6=bus, 7=car, 8=cat, 9=chair, 10=cow\n",
    "                           (0, 128, 128), (128, 128, 128), (64,\n",
    "                                                            0, 0), (192, 0, 0), (64, 128, 0),\n",
    "                           # 11=dining table, 12=dog, 13=horse, 14=motorbike, 15=person\n",
    "                           (192, 128, 0), (64, 0, 128), (192, 0,\n",
    "                                                         128), (64, 128, 128), (192, 128, 128),\n",
    "                           # 16=potted plant, 17=sheep, 18=sofa, 19=train, 20=tv/monitor\n",
    "                           (0, 64, 0), (128, 64, 0), (0, 192, 0), (128, 192, 0), (0, 64, 128)])\n",
    "  r = np.zeros_like(image).astype(np.uint8)\n",
    "  g = np.zeros_like(image).astype(np.uint8)\n",
    "  b = np.zeros_like(image).astype(np.uint8)\n",
    "  for l in range(0, nc):\n",
    "    idx = image == l\n",
    "    r[idx] = label_colors[l, 0]\n",
    "    g[idx] = label_colors[l, 1]\n",
    "    b[idx] = label_colors[l, 2]\n",
    "  rgb = np.stack([r, g, b], axis=2)\n",
    "  return rgb\n"
   ]
  },
  {
   "cell_type": "code",
   "execution_count": 5,
   "metadata": {},
   "outputs": [],
   "source": [
    "from PIL import Image\n",
    "import matplotlib.pyplot as plt\n",
    "import torch\n",
    "from torchvision import models\n",
    "import torchvision.transforms as T\n",
    "from skimage.color import rgb2gray\n",
    "from skimage.io import imsave\n",
    "\n",
    "\n",
    "def segment(net, path):\n",
    "  img = Image.open(path)\n",
    "  # plt.imshow(img)\n",
    "  # plt.axis('off')\n",
    "  # plt.show()\n",
    "\n",
    "  # Comment the Resize and CenterCrop for better inference results\n",
    "  trf = T.Compose([T.Resize(512),\n",
    "                   T.ToTensor(),\n",
    "                   T.Normalize(mean=[0.485, 0.456, 0.406],\n",
    "                               std=[0.229, 0.224, 0.225])])\n",
    "  inp = trf(img).unsqueeze(0)\n",
    "  out = net(inp)['out']\n",
    "  om = torch.argmax(out.squeeze(), dim=0).detach().cpu().numpy()\n",
    "  rgb = decode_segmap(om)\n",
    "  rgb_gray = rgb2gray(rgb)\n",
    "  # plt.imshow(rgb_gray, cmap=\"gray\")\n",
    "  # plt.axis('off')\n",
    "  # plt.show()\n",
    "\n",
    "  return rgb_gray\n"
   ]
  },
  {
   "cell_type": "code",
   "execution_count": 6,
   "metadata": {},
   "outputs": [],
   "source": [
    "from torchvision.models.segmentation import fcn_resnet50, FCN_ResNet50_Weights, DeepLabV3_ResNet101_Weights\n",
    "\n",
    "weights = DeepLabV3_ResNet101_Weights.COCO_WITH_VOC_LABELS_V1\n",
    "dlab = models.segmentation.deeplabv3_resnet101(\n",
    "    weights=weights, progress=False).eval()"
   ]
  },
  {
   "cell_type": "code",
   "execution_count": 7,
   "metadata": {},
   "outputs": [
    {
     "name": "stdout",
     "output_type": "stream",
     "text": [
      "images_for_train/r_amarelo.jpg\n",
      "images_for_train/r_amarelo_15.jpg\n",
      "images_for_train/r_animal_01.jpg\n",
      "images_for_train/r_animal_02.jpg\n",
      "images_for_train/r_animal_03.jpg\n",
      "images_for_train/r_animal_04.jpg\n",
      "images_for_train/r_animal_05.jpg\n",
      "images_for_train/r_animal_06.jpg\n",
      "images_for_train/r_animal_07.jpg\n",
      "images_for_train/r_animal_08.jpg\n",
      "images_for_train/r_animal_09.jpg\n",
      "images_for_train/r_animal_10.jpg\n",
      "images_for_train/r_animal_11.jpg\n",
      "images_for_train/r_animal_12.jpg\n",
      "images_for_train/r_animal_13.jpg\n",
      "images_for_train/r_animal_14.jpg\n",
      "images_for_train/r_animal_15.jpg\n",
      "images_for_train/r_animal_16.jpg\n",
      "images_for_train/r_animal_17.jpg\n",
      "images_for_train/r_animal_18.jpg\n",
      "images_for_train/r_animal_19.jpg\n",
      "images_for_train/r_animal_20.jpg\n",
      "images_for_train/r_animal_21.jpg\n",
      "images_for_train/r_animal_22.jpg\n",
      "images_for_train/r_animal_23.jpg\n",
      "images_for_train/r_animal_24.jpg\n",
      "images_for_train/r_animal_25.jpg\n",
      "images_for_train/r_animal_26.jpg\n",
      "images_for_train/r_animal_27.jpg\n",
      "images_for_train/r_animal_28.jpg\n",
      "images_for_train/r_animal_29.jpg\n",
      "images_for_train/r_animal_30.jpg\n",
      "images_for_train/r_animal_31.jpg\n",
      "images_for_train/r_animal_45.jpg\n",
      "images_for_train/r_animal_46.jpg\n",
      "images_for_train/r_animal_47.jpg\n",
      "images_for_train/r_animal_48.jpg\n",
      "images_for_train/r_animal_49.jpg\n",
      "images_for_train/r_animal_50.jpg\n",
      "images_for_train/r_animal_51.jpg\n",
      "images_for_train/r_animal_52.jpg\n",
      "images_for_train/r_animal_53.jpg\n",
      "images_for_train/r_animal_54.jpg\n",
      "images_for_train/r_animal_55.jpg\n",
      "images_for_train/r_animal_56.jpg\n",
      "images_for_train/r_animal_57.jpg\n",
      "images_for_train/r_animal_58.jpg\n",
      "images_for_train/r_animal_59.jpg\n",
      "images_for_train/r_animal_60.jpg\n",
      "images_for_train/r_azul.jpg\n",
      "images_for_train/r_azul_15.jpg\n",
      "images_for_train/r_branco.jpg\n",
      "images_for_train/r_branco_15.jpg\n",
      "images_for_train/r_grande_15.jpg\n",
      "images_for_train/r_laranja_15.jpg\n",
      "images_for_train/r_preto.jpg\n",
      "images_for_train/r_roxo.jpg\n",
      "images_for_train/r_roxo_15.jpg\n",
      "images_for_train/r_roxo_amarelo_15.jpg\n",
      "images_for_train/r_verde.jpg\n",
      "images_for_train/r_vermelho.jpg\n",
      "images_for_train/r_vermelho_15.jpg\n",
      "images_for_train/r_vermelho_azul_15.jpg\n"
     ]
    }
   ],
   "source": [
    "imgs = list()\n",
    "name_imgs = list()\n",
    "path = \"images_for_train/\"\n",
    "dirs = os.listdir(path)\n",
    "\n",
    "for item in dirs:\n",
    "    if os.path.isfile(path + item):\n",
    "        print(path + item)\n",
    "        imgs.append(segment(dlab, path + item))\n",
    "        name_imgs.append(item)\n",
    "        \n",
    "        \n"
   ]
  },
  {
   "cell_type": "code",
   "execution_count": 20,
   "metadata": {},
   "outputs": [
    {
     "name": "stderr",
     "output_type": "stream",
     "text": [
      "C:\\Users\\pedro\\AppData\\Local\\Temp\\ipykernel_15460\\4021870383.py:6: UserWarning: images_segmented_3/seg_image_r_amarelo.png is a low contrast image\n",
      "  imsave(\"images_segmented_3/seg_image_\" +\n",
      "Lossy conversion from float64 to uint8. Range [0, 1]. Convert image to uint8 prior to saving to suppress this warning.\n",
      "Lossy conversion from float64 to uint8. Range [0, 1]. Convert image to uint8 prior to saving to suppress this warning.\n",
      "Lossy conversion from float64 to uint8. Range [0, 1]. Convert image to uint8 prior to saving to suppress this warning.\n",
      "Lossy conversion from float64 to uint8. Range [0, 1]. Convert image to uint8 prior to saving to suppress this warning.\n",
      "Lossy conversion from float64 to uint8. Range [0, 1]. Convert image to uint8 prior to saving to suppress this warning.\n",
      "C:\\Users\\pedro\\AppData\\Local\\Temp\\ipykernel_15460\\4021870383.py:6: UserWarning: images_segmented_3/seg_image_r_animal_04.png is a low contrast image\n",
      "  imsave(\"images_segmented_3/seg_image_\" +\n",
      "Lossy conversion from float64 to uint8. Range [0, 1]. Convert image to uint8 prior to saving to suppress this warning.\n",
      "Lossy conversion from float64 to uint8. Range [0, 1]. Convert image to uint8 prior to saving to suppress this warning.\n",
      "Lossy conversion from float64 to uint8. Range [0, 1]. Convert image to uint8 prior to saving to suppress this warning.\n",
      "Lossy conversion from float64 to uint8. Range [0, 1]. Convert image to uint8 prior to saving to suppress this warning.\n",
      "Lossy conversion from float64 to uint8. Range [0, 1]. Convert image to uint8 prior to saving to suppress this warning.\n",
      "Lossy conversion from float64 to uint8. Range [0, 1]. Convert image to uint8 prior to saving to suppress this warning.\n",
      "Lossy conversion from float64 to uint8. Range [0, 1]. Convert image to uint8 prior to saving to suppress this warning.\n",
      "Lossy conversion from float64 to uint8. Range [0, 1]. Convert image to uint8 prior to saving to suppress this warning.\n",
      "Lossy conversion from float64 to uint8. Range [0, 1]. Convert image to uint8 prior to saving to suppress this warning.\n",
      "Lossy conversion from float64 to uint8. Range [0, 1]. Convert image to uint8 prior to saving to suppress this warning.\n",
      "Lossy conversion from float64 to uint8. Range [0, 1]. Convert image to uint8 prior to saving to suppress this warning.\n",
      "Lossy conversion from float64 to uint8. Range [0, 1]. Convert image to uint8 prior to saving to suppress this warning.\n",
      "Lossy conversion from float64 to uint8. Range [0, 1]. Convert image to uint8 prior to saving to suppress this warning.\n",
      "Lossy conversion from float64 to uint8. Range [0, 1]. Convert image to uint8 prior to saving to suppress this warning.\n",
      "Lossy conversion from float64 to uint8. Range [0, 1]. Convert image to uint8 prior to saving to suppress this warning.\n",
      "Lossy conversion from float64 to uint8. Range [0, 1]. Convert image to uint8 prior to saving to suppress this warning.\n",
      "C:\\Users\\pedro\\AppData\\Local\\Temp\\ipykernel_15460\\4021870383.py:6: UserWarning: images_segmented_3/seg_image_r_animal_20.png is a low contrast image\n",
      "  imsave(\"images_segmented_3/seg_image_\" +\n",
      "Lossy conversion from float64 to uint8. Range [0, 1]. Convert image to uint8 prior to saving to suppress this warning.\n",
      "Lossy conversion from float64 to uint8. Range [0, 1]. Convert image to uint8 prior to saving to suppress this warning.\n",
      "Lossy conversion from float64 to uint8. Range [0, 1]. Convert image to uint8 prior to saving to suppress this warning.\n",
      "Lossy conversion from float64 to uint8. Range [0, 1]. Convert image to uint8 prior to saving to suppress this warning.\n",
      "Lossy conversion from float64 to uint8. Range [0, 1]. Convert image to uint8 prior to saving to suppress this warning.\n",
      "Lossy conversion from float64 to uint8. Range [0, 1]. Convert image to uint8 prior to saving to suppress this warning.\n",
      "Lossy conversion from float64 to uint8. Range [0, 1]. Convert image to uint8 prior to saving to suppress this warning.\n",
      "Lossy conversion from float64 to uint8. Range [0, 1]. Convert image to uint8 prior to saving to suppress this warning.\n",
      "Lossy conversion from float64 to uint8. Range [0, 1]. Convert image to uint8 prior to saving to suppress this warning.\n",
      "Lossy conversion from float64 to uint8. Range [0, 1]. Convert image to uint8 prior to saving to suppress this warning.\n",
      "Lossy conversion from float64 to uint8. Range [0, 1]. Convert image to uint8 prior to saving to suppress this warning.\n",
      "Lossy conversion from float64 to uint8. Range [0, 1]. Convert image to uint8 prior to saving to suppress this warning.\n",
      "Lossy conversion from float64 to uint8. Range [0, 1]. Convert image to uint8 prior to saving to suppress this warning.\n",
      "Lossy conversion from float64 to uint8. Range [0, 1]. Convert image to uint8 prior to saving to suppress this warning.\n",
      "C:\\Users\\pedro\\AppData\\Local\\Temp\\ipykernel_15460\\4021870383.py:6: UserWarning: images_segmented_3/seg_image_r_animal_47.png is a low contrast image\n",
      "  imsave(\"images_segmented_3/seg_image_\" +\n",
      "Lossy conversion from float64 to uint8. Range [0, 1]. Convert image to uint8 prior to saving to suppress this warning.\n",
      "Lossy conversion from float64 to uint8. Range [0, 1]. Convert image to uint8 prior to saving to suppress this warning.\n",
      "Lossy conversion from float64 to uint8. Range [0, 1]. Convert image to uint8 prior to saving to suppress this warning.\n",
      "Lossy conversion from float64 to uint8. Range [0, 1]. Convert image to uint8 prior to saving to suppress this warning.\n",
      "Lossy conversion from float64 to uint8. Range [0, 1]. Convert image to uint8 prior to saving to suppress this warning.\n",
      "Lossy conversion from float64 to uint8. Range [0, 1]. Convert image to uint8 prior to saving to suppress this warning.\n",
      "Lossy conversion from float64 to uint8. Range [0, 1]. Convert image to uint8 prior to saving to suppress this warning.\n",
      "Lossy conversion from float64 to uint8. Range [0, 1]. Convert image to uint8 prior to saving to suppress this warning.\n",
      "Lossy conversion from float64 to uint8. Range [0, 1]. Convert image to uint8 prior to saving to suppress this warning.\n",
      "Lossy conversion from float64 to uint8. Range [0, 1]. Convert image to uint8 prior to saving to suppress this warning.\n",
      "Lossy conversion from float64 to uint8. Range [0, 1]. Convert image to uint8 prior to saving to suppress this warning.\n",
      "Lossy conversion from float64 to uint8. Range [0, 1]. Convert image to uint8 prior to saving to suppress this warning.\n",
      "C:\\Users\\pedro\\AppData\\Local\\Temp\\ipykernel_15460\\4021870383.py:6: UserWarning: images_segmented_3/seg_image_r_animal_59.png is a low contrast image\n",
      "  imsave(\"images_segmented_3/seg_image_\" +\n",
      "Lossy conversion from float64 to uint8. Range [0, 1]. Convert image to uint8 prior to saving to suppress this warning.\n",
      "Lossy conversion from float64 to uint8. Range [0, 1]. Convert image to uint8 prior to saving to suppress this warning.\n",
      "Lossy conversion from float64 to uint8. Range [0, 1]. Convert image to uint8 prior to saving to suppress this warning.\n",
      "Lossy conversion from float64 to uint8. Range [0, 1]. Convert image to uint8 prior to saving to suppress this warning.\n",
      "Lossy conversion from float64 to uint8. Range [0, 1]. Convert image to uint8 prior to saving to suppress this warning.\n",
      "Lossy conversion from float64 to uint8. Range [0, 1]. Convert image to uint8 prior to saving to suppress this warning.\n",
      "Lossy conversion from float64 to uint8. Range [0, 1]. Convert image to uint8 prior to saving to suppress this warning.\n",
      "Lossy conversion from float64 to uint8. Range [0, 1]. Convert image to uint8 prior to saving to suppress this warning.\n",
      "Lossy conversion from float64 to uint8. Range [0, 1]. Convert image to uint8 prior to saving to suppress this warning.\n",
      "C:\\Users\\pedro\\AppData\\Local\\Temp\\ipykernel_15460\\4021870383.py:6: UserWarning: images_segmented_3/seg_image_r_roxo.png is a low contrast image\n",
      "  imsave(\"images_segmented_3/seg_image_\" +\n",
      "Lossy conversion from float64 to uint8. Range [0, 1]. Convert image to uint8 prior to saving to suppress this warning.\n",
      "Lossy conversion from float64 to uint8. Range [0, 1]. Convert image to uint8 prior to saving to suppress this warning.\n",
      "Lossy conversion from float64 to uint8. Range [0, 1]. Convert image to uint8 prior to saving to suppress this warning.\n",
      "Lossy conversion from float64 to uint8. Range [0, 1]. Convert image to uint8 prior to saving to suppress this warning.\n",
      "Lossy conversion from float64 to uint8. Range [0, 1]. Convert image to uint8 prior to saving to suppress this warning.\n",
      "Lossy conversion from float64 to uint8. Range [0, 1]. Convert image to uint8 prior to saving to suppress this warning.\n",
      "Lossy conversion from float64 to uint8. Range [0, 1]. Convert image to uint8 prior to saving to suppress this warning.\n"
     ]
    }
   ],
   "source": [
    "count = len(name_imgs)\n",
    "folder = \"D:\\Documentos\\Faculdade - UFPI\\Weight Estimation\\predict_ovinos\\TCC\\images_segmented_3\"\n",
    "\n",
    "for x in range(count):\n",
    "  os.makedirs(folder, exist_ok=True)\n",
    "  imsave(\"images_segmented_3/seg_image_\" +\n",
    "         str(name_imgs[x][:-4])+\".png\", imgs[x])\n"
   ]
  },
  {
   "cell_type": "code",
   "execution_count": null,
   "metadata": {},
   "outputs": [],
   "source": []
  }
 ],
 "metadata": {
  "kernelspec": {
   "display_name": "Python 3",
   "language": "python",
   "name": "python3"
  },
  "language_info": {
   "codemirror_mode": {
    "name": "ipython",
    "version": 3
   },
   "file_extension": ".py",
   "mimetype": "text/x-python",
   "name": "python",
   "nbconvert_exporter": "python",
   "pygments_lexer": "ipython3",
   "version": "3.8.10"
  },
  "orig_nbformat": 4,
  "vscode": {
   "interpreter": {
    "hash": "cf796a5dd5001d30310d8affa2ff7ec09a7a9ca5b49a5c2a88613fa922fcbf33"
   }
  }
 },
 "nbformat": 4,
 "nbformat_minor": 2
}
