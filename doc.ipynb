{
 "cells": [
  {
   "cell_type": "code",
   "execution_count": 5,
   "id": "b5498fec",
   "metadata": {},
   "outputs": [],
   "source": [
    "import cv2\n",
    "from skimage import data, filters, measure, morphology\n",
    "\n",
    "import plotly\n",
    "import plotly.express as px\n",
    "import plotly.graph_objects as go"
   ]
  },
  {
   "cell_type": "code",
   "execution_count": 6,
   "id": "b29ed47c",
   "metadata": {},
   "outputs": [],
   "source": [
    "# img = data.coins()\n",
    "img = cv2.imread(\"/home/pedroazevedo141/Documents/Faculdade/Proj_Lind/last_try/123.png\", 0)\n",
    "\n",
    "# Binary image, post-process the binary mask and compute labels\n",
    "threshold = filters.threshold_otsu(img)\n",
    "mask = img > threshold\n",
    "mask = morphology.remove_small_objects(mask, 50)\n",
    "mask = morphology.remove_small_holes(mask, 50)\n",
    "labels = measure.label(mask)"
   ]
  },
  {
   "cell_type": "code",
   "execution_count": 9,
   "id": "0e6391bd",
   "metadata": {},
   "outputs": [
    {
     "data": {
      "application/vnd.plotly.v1+json": {
       "config": {
        "plotlyServerURL": "https://plot.ly"
       },
       "data": [
        {
         "hoverinfo": "skip",
         "hovertemplate": "x: %{x}<br>y: %{y}<br>color: %{z[0]}<extra></extra>",
         "name": "0",
         "source": "data:image/png;base64,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",
         "type": "image",
         "xaxis": "x",
         "yaxis": "y"
        }
       ],
       "layout": {
        "margin": {
         "t": 60
        },
        "template": {
         "data": {
          "bar": [
           {
            "error_x": {
             "color": "#2a3f5f"
            },
            "error_y": {
             "color": "#2a3f5f"
            },
            "marker": {
             "line": {
              "color": "#E5ECF6",
              "width": 0.5
             },
             "pattern": {
              "fillmode": "overlay",
              "size": 10,
              "solidity": 0.2
             }
            },
            "type": "bar"
           }
          ],
          "barpolar": [
           {
            "marker": {
             "line": {
              "color": "#E5ECF6",
              "width": 0.5
             },
             "pattern": {
              "fillmode": "overlay",
              "size": 10,
              "solidity": 0.2
             }
            },
            "type": "barpolar"
           }
          ],
          "carpet": [
           {
            "aaxis": {
             "endlinecolor": "#2a3f5f",
             "gridcolor": "white",
             "linecolor": "white",
             "minorgridcolor": "white",
             "startlinecolor": "#2a3f5f"
            },
            "baxis": {
             "endlinecolor": "#2a3f5f",
             "gridcolor": "white",
             "linecolor": "white",
             "minorgridcolor": "white",
             "startlinecolor": "#2a3f5f"
            },
            "type": "carpet"
           }
          ],
          "choropleth": [
           {
            "colorbar": {
             "outlinewidth": 0,
             "ticks": ""
            },
            "type": "choropleth"
           }
          ],
          "contour": [
           {
            "colorbar": {
             "outlinewidth": 0,
             "ticks": ""
            },
            "colorscale": [
             [
              0,
              "#0d0887"
             ],
             [
              0.1111111111111111,
              "#46039f"
             ],
             [
              0.2222222222222222,
              "#7201a8"
             ],
             [
              0.3333333333333333,
              "#9c179e"
             ],
             [
              0.4444444444444444,
              "#bd3786"
             ],
             [
              0.5555555555555556,
              "#d8576b"
             ],
             [
              0.6666666666666666,
              "#ed7953"
             ],
             [
              0.7777777777777778,
              "#fb9f3a"
             ],
             [
              0.8888888888888888,
              "#fdca26"
             ],
             [
              1,
              "#f0f921"
             ]
            ],
            "type": "contour"
           }
          ],
          "contourcarpet": [
           {
            "colorbar": {
             "outlinewidth": 0,
             "ticks": ""
            },
            "type": "contourcarpet"
           }
          ],
          "heatmap": [
           {
            "colorbar": {
             "outlinewidth": 0,
             "ticks": ""
            },
            "colorscale": [
             [
              0,
              "#0d0887"
             ],
             [
              0.1111111111111111,
              "#46039f"
             ],
             [
              0.2222222222222222,
              "#7201a8"
             ],
             [
              0.3333333333333333,
              "#9c179e"
             ],
             [
              0.4444444444444444,
              "#bd3786"
             ],
             [
              0.5555555555555556,
              "#d8576b"
             ],
             [
              0.6666666666666666,
              "#ed7953"
             ],
             [
              0.7777777777777778,
              "#fb9f3a"
             ],
             [
              0.8888888888888888,
              "#fdca26"
             ],
             [
              1,
              "#f0f921"
             ]
            ],
            "type": "heatmap"
           }
          ],
          "heatmapgl": [
           {
            "colorbar": {
             "outlinewidth": 0,
             "ticks": ""
            },
            "colorscale": [
             [
              0,
              "#0d0887"
             ],
             [
              0.1111111111111111,
              "#46039f"
             ],
             [
              0.2222222222222222,
              "#7201a8"
             ],
             [
              0.3333333333333333,
              "#9c179e"
             ],
             [
              0.4444444444444444,
              "#bd3786"
             ],
             [
              0.5555555555555556,
              "#d8576b"
             ],
             [
              0.6666666666666666,
              "#ed7953"
             ],
             [
              0.7777777777777778,
              "#fb9f3a"
             ],
             [
              0.8888888888888888,
              "#fdca26"
             ],
             [
              1,
              "#f0f921"
             ]
            ],
            "type": "heatmapgl"
           }
          ],
          "histogram": [
           {
            "marker": {
             "pattern": {
              "fillmode": "overlay",
              "size": 10,
              "solidity": 0.2
             }
            },
            "type": "histogram"
           }
          ],
          "histogram2d": [
           {
            "colorbar": {
             "outlinewidth": 0,
             "ticks": ""
            },
            "colorscale": [
             [
              0,
              "#0d0887"
             ],
             [
              0.1111111111111111,
              "#46039f"
             ],
             [
              0.2222222222222222,
              "#7201a8"
             ],
             [
              0.3333333333333333,
              "#9c179e"
             ],
             [
              0.4444444444444444,
              "#bd3786"
             ],
             [
              0.5555555555555556,
              "#d8576b"
             ],
             [
              0.6666666666666666,
              "#ed7953"
             ],
             [
              0.7777777777777778,
              "#fb9f3a"
             ],
             [
              0.8888888888888888,
              "#fdca26"
             ],
             [
              1,
              "#f0f921"
             ]
            ],
            "type": "histogram2d"
           }
          ],
          "histogram2dcontour": [
           {
            "colorbar": {
             "outlinewidth": 0,
             "ticks": ""
            },
            "colorscale": [
             [
              0,
              "#0d0887"
             ],
             [
              0.1111111111111111,
              "#46039f"
             ],
             [
              0.2222222222222222,
              "#7201a8"
             ],
             [
              0.3333333333333333,
              "#9c179e"
             ],
             [
              0.4444444444444444,
              "#bd3786"
             ],
             [
              0.5555555555555556,
              "#d8576b"
             ],
             [
              0.6666666666666666,
              "#ed7953"
             ],
             [
              0.7777777777777778,
              "#fb9f3a"
             ],
             [
              0.8888888888888888,
              "#fdca26"
             ],
             [
              1,
              "#f0f921"
             ]
            ],
            "type": "histogram2dcontour"
           }
          ],
          "mesh3d": [
           {
            "colorbar": {
             "outlinewidth": 0,
             "ticks": ""
            },
            "type": "mesh3d"
           }
          ],
          "parcoords": [
           {
            "line": {
             "colorbar": {
              "outlinewidth": 0,
              "ticks": ""
             }
            },
            "type": "parcoords"
           }
          ],
          "pie": [
           {
            "automargin": true,
            "type": "pie"
           }
          ],
          "scatter": [
           {
            "fillpattern": {
             "fillmode": "overlay",
             "size": 10,
             "solidity": 0.2
            },
            "type": "scatter"
           }
          ],
          "scatter3d": [
           {
            "line": {
             "colorbar": {
              "outlinewidth": 0,
              "ticks": ""
             }
            },
            "marker": {
             "colorbar": {
              "outlinewidth": 0,
              "ticks": ""
             }
            },
            "type": "scatter3d"
           }
          ],
          "scattercarpet": [
           {
            "marker": {
             "colorbar": {
              "outlinewidth": 0,
              "ticks": ""
             }
            },
            "type": "scattercarpet"
           }
          ],
          "scattergeo": [
           {
            "marker": {
             "colorbar": {
              "outlinewidth": 0,
              "ticks": ""
             }
            },
            "type": "scattergeo"
           }
          ],
          "scattergl": [
           {
            "marker": {
             "colorbar": {
              "outlinewidth": 0,
              "ticks": ""
             }
            },
            "type": "scattergl"
           }
          ],
          "scattermapbox": [
           {
            "marker": {
             "colorbar": {
              "outlinewidth": 0,
              "ticks": ""
             }
            },
            "type": "scattermapbox"
           }
          ],
          "scatterpolar": [
           {
            "marker": {
             "colorbar": {
              "outlinewidth": 0,
              "ticks": ""
             }
            },
            "type": "scatterpolar"
           }
          ],
          "scatterpolargl": [
           {
            "marker": {
             "colorbar": {
              "outlinewidth": 0,
              "ticks": ""
             }
            },
            "type": "scatterpolargl"
           }
          ],
          "scatterternary": [
           {
            "marker": {
             "colorbar": {
              "outlinewidth": 0,
              "ticks": ""
             }
            },
            "type": "scatterternary"
           }
          ],
          "surface": [
           {
            "colorbar": {
             "outlinewidth": 0,
             "ticks": ""
            },
            "colorscale": [
             [
              0,
              "#0d0887"
             ],
             [
              0.1111111111111111,
              "#46039f"
             ],
             [
              0.2222222222222222,
              "#7201a8"
             ],
             [
              0.3333333333333333,
              "#9c179e"
             ],
             [
              0.4444444444444444,
              "#bd3786"
             ],
             [
              0.5555555555555556,
              "#d8576b"
             ],
             [
              0.6666666666666666,
              "#ed7953"
             ],
             [
              0.7777777777777778,
              "#fb9f3a"
             ],
             [
              0.8888888888888888,
              "#fdca26"
             ],
             [
              1,
              "#f0f921"
             ]
            ],
            "type": "surface"
           }
          ],
          "table": [
           {
            "cells": {
             "fill": {
              "color": "#EBF0F8"
             },
             "line": {
              "color": "white"
             }
            },
            "header": {
             "fill": {
              "color": "#C8D4E3"
             },
             "line": {
              "color": "white"
             }
            },
            "type": "table"
           }
          ]
         },
         "layout": {
          "annotationdefaults": {
           "arrowcolor": "#2a3f5f",
           "arrowhead": 0,
           "arrowwidth": 1
          },
          "autotypenumbers": "strict",
          "coloraxis": {
           "colorbar": {
            "outlinewidth": 0,
            "ticks": ""
           }
          },
          "colorscale": {
           "diverging": [
            [
             0,
             "#8e0152"
            ],
            [
             0.1,
             "#c51b7d"
            ],
            [
             0.2,
             "#de77ae"
            ],
            [
             0.3,
             "#f1b6da"
            ],
            [
             0.4,
             "#fde0ef"
            ],
            [
             0.5,
             "#f7f7f7"
            ],
            [
             0.6,
             "#e6f5d0"
            ],
            [
             0.7,
             "#b8e186"
            ],
            [
             0.8,
             "#7fbc41"
            ],
            [
             0.9,
             "#4d9221"
            ],
            [
             1,
             "#276419"
            ]
           ],
           "sequential": [
            [
             0,
             "#0d0887"
            ],
            [
             0.1111111111111111,
             "#46039f"
            ],
            [
             0.2222222222222222,
             "#7201a8"
            ],
            [
             0.3333333333333333,
             "#9c179e"
            ],
            [
             0.4444444444444444,
             "#bd3786"
            ],
            [
             0.5555555555555556,
             "#d8576b"
            ],
            [
             0.6666666666666666,
             "#ed7953"
            ],
            [
             0.7777777777777778,
             "#fb9f3a"
            ],
            [
             0.8888888888888888,
             "#fdca26"
            ],
            [
             1,
             "#f0f921"
            ]
           ],
           "sequentialminus": [
            [
             0,
             "#0d0887"
            ],
            [
             0.1111111111111111,
             "#46039f"
            ],
            [
             0.2222222222222222,
             "#7201a8"
            ],
            [
             0.3333333333333333,
             "#9c179e"
            ],
            [
             0.4444444444444444,
             "#bd3786"
            ],
            [
             0.5555555555555556,
             "#d8576b"
            ],
            [
             0.6666666666666666,
             "#ed7953"
            ],
            [
             0.7777777777777778,
             "#fb9f3a"
            ],
            [
             0.8888888888888888,
             "#fdca26"
            ],
            [
             1,
             "#f0f921"
            ]
           ]
          },
          "colorway": [
           "#636efa",
           "#EF553B",
           "#00cc96",
           "#ab63fa",
           "#FFA15A",
           "#19d3f3",
           "#FF6692",
           "#B6E880",
           "#FF97FF",
           "#FECB52"
          ],
          "font": {
           "color": "#2a3f5f"
          },
          "geo": {
           "bgcolor": "white",
           "lakecolor": "white",
           "landcolor": "#E5ECF6",
           "showlakes": true,
           "showland": true,
           "subunitcolor": "white"
          },
          "hoverlabel": {
           "align": "left"
          },
          "hovermode": "closest",
          "mapbox": {
           "style": "light"
          },
          "paper_bgcolor": "white",
          "plot_bgcolor": "#E5ECF6",
          "polar": {
           "angularaxis": {
            "gridcolor": "white",
            "linecolor": "white",
            "ticks": ""
           },
           "bgcolor": "#E5ECF6",
           "radialaxis": {
            "gridcolor": "white",
            "linecolor": "white",
            "ticks": ""
           }
          },
          "scene": {
           "xaxis": {
            "backgroundcolor": "#E5ECF6",
            "gridcolor": "white",
            "gridwidth": 2,
            "linecolor": "white",
            "showbackground": true,
            "ticks": "",
            "zerolinecolor": "white"
           },
           "yaxis": {
            "backgroundcolor": "#E5ECF6",
            "gridcolor": "white",
            "gridwidth": 2,
            "linecolor": "white",
            "showbackground": true,
            "ticks": "",
            "zerolinecolor": "white"
           },
           "zaxis": {
            "backgroundcolor": "#E5ECF6",
            "gridcolor": "white",
            "gridwidth": 2,
            "linecolor": "white",
            "showbackground": true,
            "ticks": "",
            "zerolinecolor": "white"
           }
          },
          "shapedefaults": {
           "line": {
            "color": "#2a3f5f"
           }
          },
          "ternary": {
           "aaxis": {
            "gridcolor": "white",
            "linecolor": "white",
            "ticks": ""
           },
           "baxis": {
            "gridcolor": "white",
            "linecolor": "white",
            "ticks": ""
           },
           "bgcolor": "#E5ECF6",
           "caxis": {
            "gridcolor": "white",
            "linecolor": "white",
            "ticks": ""
           }
          },
          "title": {
           "x": 0.05
          },
          "xaxis": {
           "automargin": true,
           "gridcolor": "white",
           "linecolor": "white",
           "ticks": "",
           "title": {
            "standoff": 15
           },
           "zerolinecolor": "white",
           "zerolinewidth": 2
          },
          "yaxis": {
           "automargin": true,
           "gridcolor": "white",
           "linecolor": "white",
           "ticks": "",
           "title": {
            "standoff": 15
           },
           "zerolinecolor": "white",
           "zerolinewidth": 2
          }
         }
        },
        "xaxis": {
         "anchor": "y",
         "domain": [
          0,
          1
         ]
        },
        "yaxis": {
         "anchor": "x",
         "domain": [
          0,
          1
         ]
        }
       }
      },
      "text/html": [
       "<div>                            <div id=\"a724ea1b-be1d-442f-b631-c5da973cf5e9\" class=\"plotly-graph-div\" style=\"height:525px; width:100%;\"></div>            <script type=\"text/javascript\">                require([\"plotly\"], function(Plotly) {                    window.PLOTLYENV=window.PLOTLYENV || {};                                    if (document.getElementById(\"a724ea1b-be1d-442f-b631-c5da973cf5e9\")) {                    Plotly.newPlot(                        \"a724ea1b-be1d-442f-b631-c5da973cf5e9\",                        [{\"name\":\"0\",\"source\":\"data:image/png;base64,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\",\"type\":\"image\",\"xaxis\":\"x\",\"yaxis\":\"y\",\"hovertemplate\":\"x: %{x}<br>y: %{y}<br>color: %{z[0]}<extra></extra>\",\"hoverinfo\":\"skip\"}],                        {\"template\":{\"data\":{\"histogram2dcontour\":[{\"type\":\"histogram2dcontour\",\"colorbar\":{\"outlinewidth\":0,\"ticks\":\"\"},\"colorscale\":[[0.0,\"#0d0887\"],[0.1111111111111111,\"#46039f\"],[0.2222222222222222,\"#7201a8\"],[0.3333333333333333,\"#9c179e\"],[0.4444444444444444,\"#bd3786\"],[0.5555555555555556,\"#d8576b\"],[0.6666666666666666,\"#ed7953\"],[0.7777777777777778,\"#fb9f3a\"],[0.8888888888888888,\"#fdca26\"],[1.0,\"#f0f921\"]]}],\"choropleth\":[{\"type\":\"choropleth\",\"colorbar\":{\"outlinewidth\":0,\"ticks\":\"\"}}],\"histogram2d\":[{\"type\":\"histogram2d\",\"colorbar\":{\"outlinewidth\":0,\"ticks\":\"\"},\"colorscale\":[[0.0,\"#0d0887\"],[0.1111111111111111,\"#46039f\"],[0.2222222222222222,\"#7201a8\"],[0.3333333333333333,\"#9c179e\"],[0.4444444444444444,\"#bd3786\"],[0.5555555555555556,\"#d8576b\"],[0.6666666666666666,\"#ed7953\"],[0.7777777777777778,\"#fb9f3a\"],[0.8888888888888888,\"#fdca26\"],[1.0,\"#f0f921\"]]}],\"heatmap\":[{\"type\":\"heatmap\",\"colorbar\":{\"outlinewidth\":0,\"ticks\":\"\"},\"colorscale\":[[0.0,\"#0d0887\"],[0.1111111111111111,\"#46039f\"],[0.2222222222222222,\"#7201a8\"],[0.3333333333333333,\"#9c179e\"],[0.4444444444444444,\"#bd3786\"],[0.5555555555555556,\"#d8576b\"],[0.6666666666666666,\"#ed7953\"],[0.7777777777777778,\"#fb9f3a\"],[0.8888888888888888,\"#fdca26\"],[1.0,\"#f0f921\"]]}],\"heatmapgl\":[{\"type\":\"heatmapgl\",\"colorbar\":{\"outlinewidth\":0,\"ticks\":\"\"},\"colorscale\":[[0.0,\"#0d0887\"],[0.1111111111111111,\"#46039f\"],[0.2222222222222222,\"#7201a8\"],[0.3333333333333333,\"#9c179e\"],[0.4444444444444444,\"#bd3786\"],[0.5555555555555556,\"#d8576b\"],[0.6666666666666666,\"#ed7953\"],[0.7777777777777778,\"#fb9f3a\"],[0.8888888888888888,\"#fdca26\"],[1.0,\"#f0f921\"]]}],\"contourcarpet\":[{\"type\":\"contourcarpet\",\"colorbar\":{\"outlinewidth\":0,\"ticks\":\"\"}}],\"contour\":[{\"type\":\"contour\",\"colorbar\":{\"outlinewidth\":0,\"ticks\":\"\"},\"colorscale\":[[0.0,\"#0d0887\"],[0.1111111111111111,\"#46039f\"],[0.2222222222222222,\"#7201a8\"],[0.3333333333333333,\"#9c179e\"],[0.4444444444444444,\"#bd3786\"],[0.5555555555555556,\"#d8576b\"],[0.6666666666666666,\"#ed7953\"],[0.7777777777777778,\"#fb9f3a\"],[0.8888888888888888,\"#fdca26\"],[1.0,\"#f0f921\"]]}],\"surface\":[{\"type\":\"surface\",\"colorbar\":{\"outlinewidth\":0,\"ticks\":\"\"},\"colorscale\":[[0.0,\"#0d0887\"],[0.1111111111111111,\"#46039f\"],[0.2222222222222222,\"#7201a8\"],[0.3333333333333333,\"#9c179e\"],[0.4444444444444444,\"#bd3786\"],[0.5555555555555556,\"#d8576b\"],[0.6666666666666666,\"#ed7953\"],[0.7777777777777778,\"#fb9f3a\"],[0.8888888888888888,\"#fdca26\"],[1.0,\"#f0f921\"]]}],\"mesh3d\":[{\"type\":\"mesh3d\",\"colorbar\":{\"outlinewidth\":0,\"ticks\":\"\"}}],\"scatter\":[{\"fillpattern\":{\"fillmode\":\"overlay\",\"size\":10,\"solidity\":0.2},\"type\":\"scatter\"}],\"parcoords\":[{\"type\":\"parcoords\",\"line\":{\"colorbar\":{\"outlinewidth\":0,\"ticks\":\"\"}}}],\"scatterpolargl\":[{\"type\":\"scatterpolargl\",\"marker\":{\"colorbar\":{\"outlinewidth\":0,\"ticks\":\"\"}}}],\"bar\":[{\"error_x\":{\"color\":\"#2a3f5f\"},\"error_y\":{\"color\":\"#2a3f5f\"},\"marker\":{\"line\":{\"color\":\"#E5ECF6\",\"width\":0.5},\"pattern\":{\"fillmode\":\"overlay\",\"size\":10,\"solidity\":0.2}},\"type\":\"bar\"}],\"scattergeo\":[{\"type\":\"scattergeo\",\"marker\":{\"colorbar\":{\"outlinewidth\":0,\"ticks\":\"\"}}}],\"scatterpolar\":[{\"type\":\"scatterpolar\",\"marker\":{\"colorbar\":{\"outlinewidth\":0,\"ticks\":\"\"}}}],\"histogram\":[{\"marker\":{\"pattern\":{\"fillmode\":\"overlay\",\"size\":10,\"solidity\":0.2}},\"type\":\"histogram\"}],\"scattergl\":[{\"type\":\"scattergl\",\"marker\":{\"colorbar\":{\"outlinewidth\":0,\"ticks\":\"\"}}}],\"scatter3d\":[{\"type\":\"scatter3d\",\"line\":{\"colorbar\":{\"outlinewidth\":0,\"ticks\":\"\"}},\"marker\":{\"colorbar\":{\"outlinewidth\":0,\"ticks\":\"\"}}}],\"scattermapbox\":[{\"type\":\"scattermapbox\",\"marker\":{\"colorbar\":{\"outlinewidth\":0,\"ticks\":\"\"}}}],\"scatterternary\":[{\"type\":\"scatterternary\",\"marker\":{\"colorbar\":{\"outlinewidth\":0,\"ticks\":\"\"}}}],\"scattercarpet\":[{\"type\":\"scattercarpet\",\"marker\":{\"colorbar\":{\"outlinewidth\":0,\"ticks\":\"\"}}}],\"carpet\":[{\"aaxis\":{\"endlinecolor\":\"#2a3f5f\",\"gridcolor\":\"white\",\"linecolor\":\"white\",\"minorgridcolor\":\"white\",\"startlinecolor\":\"#2a3f5f\"},\"baxis\":{\"endlinecolor\":\"#2a3f5f\",\"gridcolor\":\"white\",\"linecolor\":\"white\",\"minorgridcolor\":\"white\",\"startlinecolor\":\"#2a3f5f\"},\"type\":\"carpet\"}],\"table\":[{\"cells\":{\"fill\":{\"color\":\"#EBF0F8\"},\"line\":{\"color\":\"white\"}},\"header\":{\"fill\":{\"color\":\"#C8D4E3\"},\"line\":{\"color\":\"white\"}},\"type\":\"table\"}],\"barpolar\":[{\"marker\":{\"line\":{\"color\":\"#E5ECF6\",\"width\":0.5},\"pattern\":{\"fillmode\":\"overlay\",\"size\":10,\"solidity\":0.2}},\"type\":\"barpolar\"}],\"pie\":[{\"automargin\":true,\"type\":\"pie\"}]},\"layout\":{\"autotypenumbers\":\"strict\",\"colorway\":[\"#636efa\",\"#EF553B\",\"#00cc96\",\"#ab63fa\",\"#FFA15A\",\"#19d3f3\",\"#FF6692\",\"#B6E880\",\"#FF97FF\",\"#FECB52\"],\"font\":{\"color\":\"#2a3f5f\"},\"hovermode\":\"closest\",\"hoverlabel\":{\"align\":\"left\"},\"paper_bgcolor\":\"white\",\"plot_bgcolor\":\"#E5ECF6\",\"polar\":{\"bgcolor\":\"#E5ECF6\",\"angularaxis\":{\"gridcolor\":\"white\",\"linecolor\":\"white\",\"ticks\":\"\"},\"radialaxis\":{\"gridcolor\":\"white\",\"linecolor\":\"white\",\"ticks\":\"\"}},\"ternary\":{\"bgcolor\":\"#E5ECF6\",\"aaxis\":{\"gridcolor\":\"white\",\"linecolor\":\"white\",\"ticks\":\"\"},\"baxis\":{\"gridcolor\":\"white\",\"linecolor\":\"white\",\"ticks\":\"\"},\"caxis\":{\"gridcolor\":\"white\",\"linecolor\":\"white\",\"ticks\":\"\"}},\"coloraxis\":{\"colorbar\":{\"outlinewidth\":0,\"ticks\":\"\"}},\"colorscale\":{\"sequential\":[[0.0,\"#0d0887\"],[0.1111111111111111,\"#46039f\"],[0.2222222222222222,\"#7201a8\"],[0.3333333333333333,\"#9c179e\"],[0.4444444444444444,\"#bd3786\"],[0.5555555555555556,\"#d8576b\"],[0.6666666666666666,\"#ed7953\"],[0.7777777777777778,\"#fb9f3a\"],[0.8888888888888888,\"#fdca26\"],[1.0,\"#f0f921\"]],\"sequentialminus\":[[0.0,\"#0d0887\"],[0.1111111111111111,\"#46039f\"],[0.2222222222222222,\"#7201a8\"],[0.3333333333333333,\"#9c179e\"],[0.4444444444444444,\"#bd3786\"],[0.5555555555555556,\"#d8576b\"],[0.6666666666666666,\"#ed7953\"],[0.7777777777777778,\"#fb9f3a\"],[0.8888888888888888,\"#fdca26\"],[1.0,\"#f0f921\"]],\"diverging\":[[0,\"#8e0152\"],[0.1,\"#c51b7d\"],[0.2,\"#de77ae\"],[0.3,\"#f1b6da\"],[0.4,\"#fde0ef\"],[0.5,\"#f7f7f7\"],[0.6,\"#e6f5d0\"],[0.7,\"#b8e186\"],[0.8,\"#7fbc41\"],[0.9,\"#4d9221\"],[1,\"#276419\"]]},\"xaxis\":{\"gridcolor\":\"white\",\"linecolor\":\"white\",\"ticks\":\"\",\"title\":{\"standoff\":15},\"zerolinecolor\":\"white\",\"automargin\":true,\"zerolinewidth\":2},\"yaxis\":{\"gridcolor\":\"white\",\"linecolor\":\"white\",\"ticks\":\"\",\"title\":{\"standoff\":15},\"zerolinecolor\":\"white\",\"automargin\":true,\"zerolinewidth\":2},\"scene\":{\"xaxis\":{\"backgroundcolor\":\"#E5ECF6\",\"gridcolor\":\"white\",\"linecolor\":\"white\",\"showbackground\":true,\"ticks\":\"\",\"zerolinecolor\":\"white\",\"gridwidth\":2},\"yaxis\":{\"backgroundcolor\":\"#E5ECF6\",\"gridcolor\":\"white\",\"linecolor\":\"white\",\"showbackground\":true,\"ticks\":\"\",\"zerolinecolor\":\"white\",\"gridwidth\":2},\"zaxis\":{\"backgroundcolor\":\"#E5ECF6\",\"gridcolor\":\"white\",\"linecolor\":\"white\",\"showbackground\":true,\"ticks\":\"\",\"zerolinecolor\":\"white\",\"gridwidth\":2}},\"shapedefaults\":{\"line\":{\"color\":\"#2a3f5f\"}},\"annotationdefaults\":{\"arrowcolor\":\"#2a3f5f\",\"arrowhead\":0,\"arrowwidth\":1},\"geo\":{\"bgcolor\":\"white\",\"landcolor\":\"#E5ECF6\",\"subunitcolor\":\"white\",\"showland\":true,\"showlakes\":true,\"lakecolor\":\"white\"},\"title\":{\"x\":0.05},\"mapbox\":{\"style\":\"light\"}}},\"xaxis\":{\"anchor\":\"y\",\"domain\":[0.0,1.0]},\"yaxis\":{\"anchor\":\"x\",\"domain\":[0.0,1.0]},\"margin\":{\"t\":60}},                        {\"responsive\": true}                    ).then(function(){\n",
       "                            \n",
       "var gd = document.getElementById('a724ea1b-be1d-442f-b631-c5da973cf5e9');\n",
       "var x = new MutationObserver(function (mutations, observer) {{\n",
       "        var display = window.getComputedStyle(gd).display;\n",
       "        if (!display || display === 'none') {{\n",
       "            console.log([gd, 'removed!']);\n",
       "            Plotly.purge(gd);\n",
       "            observer.disconnect();\n",
       "        }}\n",
       "}});\n",
       "\n",
       "// Listen for the removal of the full notebook cells\n",
       "var notebookContainer = gd.closest('#notebook-container');\n",
       "if (notebookContainer) {{\n",
       "    x.observe(notebookContainer, {childList: true});\n",
       "}}\n",
       "\n",
       "// Listen for the clearing of the current output cell\n",
       "var outputEl = gd.closest('.output');\n",
       "if (outputEl) {{\n",
       "    x.observe(outputEl, {childList: true});\n",
       "}}\n",
       "\n",
       "                        })                };                });            </script>        </div>"
      ]
     },
     "metadata": {},
     "output_type": "display_data"
    }
   ],
   "source": [
    "fig = px.imshow(img, binary_string=True)\n",
    "fig.update_traces(hoverinfo='skip') # hover is only for label info\n",
    "\n",
    "props = measure.regionprops(labels, img)\n",
    "properties = ['area', 'eccentricity', 'perimeter', 'intensity_mean']\n",
    "\n",
    "# For each label, add a filled scatter trace for its contour,\n",
    "# and display the properties of the label in the hover of this trace.\n",
    "for index in range(1, labels.max()):\n",
    "    label_i = props[index].label\n",
    "    contour = measure.find_contours(labels == label_i, 0.5)[0]\n",
    "    y, x = contour.T\n",
    "    hoverinfo = ''\n",
    "    for prop_name in properties:\n",
    "        hoverinfo += f'<b>{prop_name}: {getattr(props[index], prop_name):.2f}</b><br>'\n",
    "    fig.add_trace(go.Scatter(\n",
    "        x=x, y=y, name=label_i,\n",
    "        mode='lines', fill='toself', showlegend=False,\n",
    "        hovertemplate=hoverinfo, hoveron='points+fills'))\n",
    "\n",
    "plotly.io.show(fig)"
   ]
  },
  {
   "cell_type": "code",
   "execution_count": 10,
   "id": "ec6a32b7",
   "metadata": {},
   "outputs": [],
   "source": [
    "import math\n",
    "import matplotlib.pyplot as plt\n",
    "import numpy as np\n",
    "import pandas as pd\n",
    "\n",
    "from skimage.draw import ellipse\n",
    "from skimage.measure import label, regionprops, regionprops_table\n",
    "from skimage.transform import rotate\n",
    "\n",
    "\n",
    "image = np.zeros((600, 600))\n",
    "\n",
    "rr, cc = ellipse(300, 350, 100, 220)\n",
    "image[rr, cc] = 1\n",
    "\n",
    "image = rotate(image, angle=15, order=0)\n",
    "\n",
    "rr, cc = ellipse(100, 100, 60, 50)\n",
    "image[rr, cc] = 1\n",
    "\n",
    "label_img = label(image)\n",
    "regions = regionprops(label_img)"
   ]
  },
  {
   "cell_type": "code",
   "execution_count": 11,
   "id": "7884a557",
   "metadata": {},
   "outputs": [
    {
     "data": {
      "image/png": "[encoded data removed]",
      "text/plain": [
       "<Figure size 432x288 with 1 Axes>"
      ]
     },
     "metadata": {
      "needs_background": "light"
     },
     "output_type": "display_data"
    }
   ],
   "source": [
    "fig, ax = plt.subplots()\n",
    "ax.imshow(image, cmap=plt.cm.gray)\n",
    "\n",
    "for props in regions:\n",
    "    y0, x0 = props.centroid\n",
    "    orientation = props.orientation\n",
    "    x1 = x0 + math.cos(orientation) * 0.5 * props.axis_minor_length\n",
    "    y1 = y0 - math.sin(orientation) * 0.5 * props.axis_minor_length\n",
    "    x2 = x0 - math.sin(orientation) * 0.5 * props.axis_major_length\n",
    "    y2 = y0 - math.cos(orientation) * 0.5 * props.axis_major_length\n",
    "\n",
    "    ax.plot((x0, x1), (y0, y1), '-r', linewidth=2.5)\n",
    "    ax.plot((x0, x2), (y0, y2), '-r', linewidth=2.5)\n",
    "    ax.plot(x0, y0, '.g', markersize=15)\n",
    "\n",
    "    minr, minc, maxr, maxc = props.bbox\n",
    "    bx = (minc, maxc, maxc, minc, minc)\n",
    "    by = (minr, minr, maxr, maxr, minr)\n",
    "    ax.plot(bx, by, '-b', linewidth=2.5)\n",
    "\n",
    "ax.axis((0, 600, 600, 0))\n",
    "plt.show()"
   ]
  },
  {
   "cell_type": "code",
   "execution_count": 12,
   "id": "e68d2b4f",
   "metadata": {},
   "outputs": [],
   "source": [
    "props = regionprops_table(label_img, properties=('centroid',\n",
    "                                                 'orientation',\n",
    "                                                 'axis_major_length',\n",
    "                                                 'axis_minor_length'))"
   ]
  },
  {
   "cell_type": "code",
   "execution_count": 13,
   "id": "86c86c63",
   "metadata": {},
   "outputs": [
    {
     "data": {
      "text/html": [
       "<div>\n",
       "<style scoped>\n",
       "    .dataframe tbody tr th:only-of-type {\n",
       "        vertical-align: middle;\n",
       "    }\n",
       "\n",
       "    .dataframe tbody tr th {\n",
       "        vertical-align: top;\n",
       "    }\n",
       "\n",
       "    .dataframe thead th {\n",
       "        text-align: right;\n",
       "    }\n",
       "</style>\n",
       "<table border=\"1\" class=\"dataframe\">\n",
       "  <thead>\n",
       "    <tr style=\"text-align: right;\">\n",
       "      <th></th>\n",
       "      <th>centroid-0</th>\n",
       "      <th>centroid-1</th>\n",
       "      <th>orientation</th>\n",
       "      <th>axis_major_length</th>\n",
       "      <th>axis_minor_length</th>\n",
       "    </tr>\n",
       "  </thead>\n",
       "  <tbody>\n",
       "    <tr>\n",
       "      <th>0</th>\n",
       "      <td>100.000000</td>\n",
       "      <td>100.000000</td>\n",
       "      <td>0.000000</td>\n",
       "      <td>119.807049</td>\n",
       "      <td>99.823995</td>\n",
       "    </tr>\n",
       "    <tr>\n",
       "      <th>1</th>\n",
       "      <td>286.914167</td>\n",
       "      <td>348.412995</td>\n",
       "      <td>-1.308966</td>\n",
       "      <td>440.015503</td>\n",
       "      <td>199.918850</td>\n",
       "    </tr>\n",
       "  </tbody>\n",
       "</table>\n",
       "</div>"
      ],
      "text/plain": [
       "   centroid-0  centroid-1  orientation  axis_major_length  axis_minor_length\n",
       "0  100.000000  100.000000     0.000000         119.807049          99.823995\n",
       "1  286.914167  348.412995    -1.308966         440.015503         199.918850"
      ]
     },
     "execution_count": 13,
     "metadata": {},
     "output_type": "execute_result"
    }
   ],
   "source": [
    "pd.DataFrame(props)"
   ]
  },
  {
   "cell_type": "code",
   "execution_count": null,
   "id": "8a16bf43",
   "metadata": {},
   "outputs": [],
   "source": []
  }
 ],
 "metadata": {
  "kernelspec": {
   "display_name": "Python 3 (ipykernel)",
   "language": "python",
   "name": "python3"
  },
  "language_info": {
   "codemirror_mode": {
    "name": "ipython",
    "version": 3
   },
   "file_extension": ".py",
   "mimetype": "text/x-python",
   "name": "python",
   "nbconvert_exporter": "python",
   "pygments_lexer": "ipython3",
   "version": "3.10.4"
  }
 },
 "nbformat": 4,
 "nbformat_minor": 5
}
