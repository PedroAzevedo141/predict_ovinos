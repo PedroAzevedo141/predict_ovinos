{
 "cells": [
  {
   "cell_type": "code",
   "execution_count": 1,
   "id": "14bbc41c-09ab-402f-ba5a-8268238becc6",
   "metadata": {},
   "outputs": [],
   "source": [
    "import os"
   ]
  },
  {
   "cell_type": "code",
   "execution_count": 7,
   "id": "888dfb88-79ee-4009-b91f-9ab37c7ec217",
   "metadata": {},
   "outputs": [
    {
     "name": "stdout",
     "output_type": "stream",
     "text": [
      "0\n",
      "16\n",
      "/home/pedroazevedo141/Documents/Faculdade/Proj_Lind/last_try/images/2022_03_26/045.png\n",
      "/home/pedroazevedo141/Documents/Faculdade/Proj_Lind/last_try/images/2022_03_26/049.png\n",
      "/home/pedroazevedo141/Documents/Faculdade/Proj_Lind/last_try/images/2022_03_26/059.png\n",
      "/home/pedroazevedo141/Documents/Faculdade/Proj_Lind/last_try/images/2022_03_26/054.png\n",
      "/home/pedroazevedo141/Documents/Faculdade/Proj_Lind/last_try/images/2022_03_26/057.png\n",
      "/home/pedroazevedo141/Documents/Faculdade/Proj_Lind/last_try/images/2022_03_26/048.png\n",
      "/home/pedroazevedo141/Documents/Faculdade/Proj_Lind/last_try/images/2022_03_26/050.png\n",
      "/home/pedroazevedo141/Documents/Faculdade/Proj_Lind/last_try/images/2022_03_26/056.png\n",
      "/home/pedroazevedo141/Documents/Faculdade/Proj_Lind/last_try/images/2022_03_26/060.png\n",
      "/home/pedroazevedo141/Documents/Faculdade/Proj_Lind/last_try/images/2022_03_26/046.png\n",
      "/home/pedroazevedo141/Documents/Faculdade/Proj_Lind/last_try/images/2022_03_26/058.png\n",
      "/home/pedroazevedo141/Documents/Faculdade/Proj_Lind/last_try/images/2022_03_26/055.png\n",
      "/home/pedroazevedo141/Documents/Faculdade/Proj_Lind/last_try/images/2022_03_26/053.png\n",
      "/home/pedroazevedo141/Documents/Faculdade/Proj_Lind/last_try/images/2022_03_26/052.png\n",
      "/home/pedroazevedo141/Documents/Faculdade/Proj_Lind/last_try/images/2022_03_26/047.png\n",
      "/home/pedroazevedo141/Documents/Faculdade/Proj_Lind/last_try/images/2022_03_26/051.png\n",
      "12\n",
      "/home/pedroazevedo141/Documents/Faculdade/Proj_Lind/last_try/images/2022_03_12/009.png\n",
      "/home/pedroazevedo141/Documents/Faculdade/Proj_Lind/last_try/images/2022_03_12/001.png\n",
      "/home/pedroazevedo141/Documents/Faculdade/Proj_Lind/last_try/images/2022_03_12/011.png\n",
      "/home/pedroazevedo141/Documents/Faculdade/Proj_Lind/last_try/images/2022_03_12/004.png\n",
      "/home/pedroazevedo141/Documents/Faculdade/Proj_Lind/last_try/images/2022_03_12/006.png\n",
      "/home/pedroazevedo141/Documents/Faculdade/Proj_Lind/last_try/images/2022_03_12/003.png\n",
      "/home/pedroazevedo141/Documents/Faculdade/Proj_Lind/last_try/images/2022_03_12/010.png\n",
      "/home/pedroazevedo141/Documents/Faculdade/Proj_Lind/last_try/images/2022_03_12/005.png\n",
      "/home/pedroazevedo141/Documents/Faculdade/Proj_Lind/last_try/images/2022_03_12/002.png\n",
      "/home/pedroazevedo141/Documents/Faculdade/Proj_Lind/last_try/images/2022_03_12/008.png\n",
      "/home/pedroazevedo141/Documents/Faculdade/Proj_Lind/last_try/images/2022_03_12/007.png\n",
      "/home/pedroazevedo141/Documents/Faculdade/Proj_Lind/last_try/images/2022_03_12/013.png\n",
      "18\n",
      "/home/pedroazevedo141/Documents/Faculdade/Proj_Lind/last_try/images/2022_03_19/021.png\n",
      "/home/pedroazevedo141/Documents/Faculdade/Proj_Lind/last_try/images/2022_03_19/019.png\n",
      "/home/pedroazevedo141/Documents/Faculdade/Proj_Lind/last_try/images/2022_03_19/016.png\n",
      "/home/pedroazevedo141/Documents/Faculdade/Proj_Lind/last_try/images/2022_03_19/030.png\n",
      "/home/pedroazevedo141/Documents/Faculdade/Proj_Lind/last_try/images/2022_03_19/023.png\n",
      "/home/pedroazevedo141/Documents/Faculdade/Proj_Lind/last_try/images/2022_03_19/029.png\n",
      "/home/pedroazevedo141/Documents/Faculdade/Proj_Lind/last_try/images/2022_03_19/018.png\n",
      "/home/pedroazevedo141/Documents/Faculdade/Proj_Lind/last_try/images/2022_03_19/015.png\n",
      "/home/pedroazevedo141/Documents/Faculdade/Proj_Lind/last_try/images/2022_03_19/020.png\n",
      "/home/pedroazevedo141/Documents/Faculdade/Proj_Lind/last_try/images/2022_03_19/022.png\n",
      "/home/pedroazevedo141/Documents/Faculdade/Proj_Lind/last_try/images/2022_03_19/014.png\n",
      "/home/pedroazevedo141/Documents/Faculdade/Proj_Lind/last_try/images/2022_03_19/025.png\n",
      "/home/pedroazevedo141/Documents/Faculdade/Proj_Lind/last_try/images/2022_03_19/024.png\n",
      "/home/pedroazevedo141/Documents/Faculdade/Proj_Lind/last_try/images/2022_03_19/028.png\n",
      "/home/pedroazevedo141/Documents/Faculdade/Proj_Lind/last_try/images/2022_03_19/027.png\n",
      "/home/pedroazevedo141/Documents/Faculdade/Proj_Lind/last_try/images/2022_03_19/017.png\n",
      "/home/pedroazevedo141/Documents/Faculdade/Proj_Lind/last_try/images/2022_03_19/031.png\n",
      "/home/pedroazevedo141/Documents/Faculdade/Proj_Lind/last_try/images/2022_03_19/026.png\n"
     ]
    }
   ],
   "source": [
    "pasta = \"/home/pedroazevedo141/Documents/Faculdade/Proj_Lind/last_try/images/\"\n",
    "\n",
    "for diretorio, subpastas, arquivos in os.walk(pasta):\n",
    "    print(len(arquivos))\n",
    "    for arquivo in arquivos:\n",
    "        print(diretorio + \"/\" + arquivo)"
   ]
  },
  {
   "cell_type": "code",
   "execution_count": null,
   "id": "e95c660a-18f2-453a-b1f3-5b3c23876118",
   "metadata": {},
   "outputs": [],
   "source": []
  }
 ],
 "metadata": {
  "kernelspec": {
   "display_name": "Python 3 (ipykernel)",
   "language": "python",
   "name": "python3"
  },
  "language_info": {
   "codemirror_mode": {
    "name": "ipython",
    "version": 3
   },
   "file_extension": ".py",
   "mimetype": "text/x-python",
   "name": "python",
   "nbconvert_exporter": "python",
   "pygments_lexer": "ipython3",
   "version": "3.10.4"
  }
 },
 "nbformat": 4,
 "nbformat_minor": 5
}
