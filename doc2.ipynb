{
 "cells": [
  {
   "cell_type": "code",
   "execution_count": 2,
   "id": "e8afa6f9",
   "metadata": {},
   "outputs": [],
   "source": [
    "import cv2\n",
    "import matplotlib.pyplot as plt\n",
    "import numpy as np\n",
    "from skimage import data\n",
    "from skimage.color import label2rgb\n",
    "from skimage.filters import sobel\n",
    "from skimage.measure import label\n",
    "from skimage.segmentation import expand_labels, watershed"
   ]
  },
  {
   "cell_type": "code",
   "execution_count": 3,
   "id": "1ddcd5df",
   "metadata": {},
   "outputs": [],
   "source": [
    "img = cv2.imread(\"/home/pedroazevedo141/Documents/Faculdade/Proj_Lind/last_try/123.png\", 0)"
   ]
  },
  {
   "cell_type": "code",
   "execution_count": 4,
   "id": "23f5742c",
   "metadata": {},
   "outputs": [],
   "source": [
    "# Make segmentation using edge-detection and watershed.\n",
    "edges = sobel(img)"
   ]
  },
  {
   "cell_type": "code",
   "execution_count": 6,
   "id": "e237bdd4",
   "metadata": {},
   "outputs": [],
   "source": [
    "# Identify some background and foreground pixels from the intensity values.\n",
    "# These pixels are used as seeds for watershed.\n",
    "markers = np.zeros_like(img)\n",
    "foreground, background = 1, 2\n",
    "markers[img < 30.0] = background\n",
    "markers[img > 150.0] = foreground"
   ]
  },
  {
   "cell_type": "code",
   "execution_count": 7,
   "id": "cd8509ef",
   "metadata": {},
   "outputs": [],
   "source": [
    "ws = watershed(edges, markers)\n",
    "seg1 = label(ws == foreground)\n",
    "\n",
    "expanded = expand_labels(seg1, distance=10)"
   ]
  },
  {
   "cell_type": "code",
   "execution_count": 11,
   "id": "787d08ab",
   "metadata": {},
   "outputs": [
    {
     "data": {
      "image/png": "[encoded data removed]",
      "text/plain": [
       "<Figure size 648x360 with 3 Axes>"
      ]
     },
     "metadata": {
      "needs_background": "light"
     },
     "output_type": "display_data"
    }
   ],
   "source": [
    "# Show the segmentations.\n",
    "fig, axes = plt.subplots(\n",
    "    nrows=1,\n",
    "    ncols=3,\n",
    "    figsize=(9, 5),\n",
    "    sharex=True,\n",
    "    sharey=True,\n",
    ")\n",
    "\n",
    "axes[0].imshow(img, cmap=\"Greys_r\")\n",
    "axes[0].set_title(\"Original\")\n",
    "\n",
    "color1 = label2rgb(seg1, image=img, bg_label=0)\n",
    "axes[1].imshow(color1)\n",
    "axes[1].set_title(\"Sobel+Watershed\")\n",
    "\n",
    "color2 = label2rgb(expanded, image=img, bg_label=0)\n",
    "axes[2].imshow(color2)\n",
    "axes[2].set_title(\"Expanded labels\")\n",
    "\n",
    "\n",
    "for a in axes:\n",
    "    a.axis(\"off\")\n",
    "fig.tight_layout()\n",
    "plt.show()"
   ]
  },
  {
   "cell_type": "code",
   "execution_count": 10,
   "id": "e29e9079",
   "metadata": {},
   "outputs": [],
   "source": []
  },
  {
   "cell_type": "code",
   "execution_count": null,
   "id": "8002d782",
   "metadata": {},
   "outputs": [],
   "source": []
  }
 ],
 "metadata": {
  "kernelspec": {
   "display_name": "Python 3 (ipykernel)",
   "language": "python",
   "name": "python3"
  },
  "language_info": {
   "codemirror_mode": {
    "name": "ipython",
    "version": 3
   },
   "file_extension": ".py",
   "mimetype": "text/x-python",
   "name": "python",
   "nbconvert_exporter": "python",
   "pygments_lexer": "ipython3",
   "version": "3.10.4"
  }
 },
 "nbformat": 4,
 "nbformat_minor": 5
}
